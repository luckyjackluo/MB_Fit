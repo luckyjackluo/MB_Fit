{
 "cells": [
  {
   "cell_type": "markdown",
   "metadata": {},
   "source": [
    "# MB-Fit tutorial (v20190924)\n",
    "\n",
    "This notebook will walk you through the multiple possibilities one has to obtain many-body fits for multiple molecules. \n",
    "\n"
   ]
  },
  {
   "cell_type": "markdown",
   "metadata": {},
   "source": [
    "## Chapter 0. Set up the notebook."
   ]
  },
  {
   "cell_type": "markdown",
   "metadata": {},
   "source": [
    "### 0.1. Import the python library\n",
    "Remember that in order to import the library without any errors, you need to perform the following operations in the bash terminal from which you are running the notebook. If you didn't do it, please, close the notebook and write in a bash terminal:\n",
    "```sh\n",
    "cd HOME/DIRECTORY/OF/POTENTIAL_FITTING\n",
    "source install.sh\n",
    "```\n",
    "Now the following command should run without any problem."
   ]
  },
  {
   "cell_type": "code",
   "execution_count": null,
   "metadata": {},
   "outputs": [],
   "source": [
    "# This is for testing purposes. Can be ignored.\n",
    "%load_ext autoreload\n",
    "%autoreload 2"
   ]
  },
  {
   "cell_type": "code",
   "execution_count": null,
   "metadata": {
    "scrolled": false
   },
   "outputs": [],
   "source": [
    "# The library that will enable the fitting generation and energy calculation\n",
    "import potential_fitting\n",
    "# Some other useful libraries\n",
    "import os"
   ]
  },
  {
   "cell_type": "markdown",
   "metadata": {},
   "source": [
    "## Chapter 1. One-body MB-nrg PEF for CO2"
   ]
  },
  {
   "cell_type": "markdown",
   "metadata": {},
   "source": [
    "### 1.1. Define variables, filepaths, and folders to work in"
   ]
  },
  {
   "cell_type": "markdown",
   "metadata": {},
   "source": [
    "The working directory is the path where the files should be. If they are not in the working directory, the full path to the file should be provided. In order to run this example for CO2, we will create a folder called co2_1b in the current directory."
   ]
  },
  {
   "cell_type": "code",
   "execution_count": null,
   "metadata": {},
   "outputs": [],
   "source": [
    "main_dir = os.getcwd()\n",
    "os.system(\"mkdir -p chapter1_co2_1b_mbnrg\")\n",
    "os.chdir(\"chapter1_co2_1b_mbnrg\")"
   ]
  },
  {
   "cell_type": "markdown",
   "metadata": {},
   "source": [
    "#### Specifications of the QC calculations\n",
    "Next we are gonna define the method that we want to use to calculate energies, along with some other technical details."
   ]
  },
  {
   "cell_type": "code",
   "execution_count": null,
   "metadata": {},
   "outputs": [],
   "source": [
    "# The software that will be used to perform all the calculations\n",
    "#code = \"qchem\"\n",
    "code = \"psi4\"\n",
    "\n",
    "# The quantum chemistry method we want to use\n",
    "method = \"HF\"\n",
    "#method = \"MP2\"\n",
    "#method = \"wb97m-v\"\n",
    "\n",
    "# Basis set to use. Must be pre-defined in the software. Custom basis sets not implemented yet.\n",
    "basis = \"STO-3G\"\n",
    "\n",
    "# Use counter-poise correction or not.\n",
    "cp = False\n",
    "#cp = True\n",
    "\n",
    "# Number of threads and memory we would like to use\n",
    "num_threads = 2\n",
    "memory = \"4GB\"\n",
    "\n",
    "# This is the path where all the log files will be stored.\n",
    "log_path = \"logs\""
   ]
  },
  {
   "cell_type": "markdown",
   "metadata": {},
   "source": [
    "#### Monomer specifications\n",
    "This section will be used to define all the specifications that define the monomer. In this case there is only one monomer, but we still need to specify the properties as a list, since when more monomers are present, we need to specify them in a list."
   ]
  },
  {
   "cell_type": "code",
   "execution_count": null,
   "metadata": {},
   "outputs": [],
   "source": [
    "# Names that will identify the monomers. This is used for identification purposes only.\n",
    "names = [\"CO2\"]\n",
    "\n",
    "# Number of atoms of each monomer\n",
    "number_of_atoms = [3]\n",
    "\n",
    "# Charge of each monomer\n",
    "charges = [0]\n",
    "\n",
    "# Spin multiplicity of each monomer\n",
    "spin = [1]\n",
    "\n",
    "# Use MB-pol for water (if applicable). \n",
    "# If 1 will use the Partridge-Shwenke PEF for water, with the position dependent charges.\n",
    "use_mbpol = [0]"
   ]
  },
  {
   "cell_type": "markdown",
   "metadata": {},
   "source": [
    "The symmetry tag requires a little bit of explanation. It contains the atom identity for the monomers. Some examples are `symmetry = [\"A1B4\"]` for methane monomer, `symmetry = [\"A1B2\",\"A1B2\"]` for a CO2 dimer, `symmetry = [\"A6B6\",\"C1D2\"]` for a benzene -- water dimer without lone pairs, and `symmetry = [\"A1B2Z2\",\"C1D2\"]` for a H2O -- SO2 dimer with lone pairs. The rules are the following:\n",
    "    * Symmetry names must be written in capital letters and start with A for the first atom of the first monomer. Any new atom type will be assigned the next letter of the alphabet.\n",
    "    * Exchangable atoms must have the same label, even if they are in different molecules.\n",
    "    * As for today, no more than 9 atoms of the same atom type is accepted.\n",
    "    * If there are virtual sites such as lone pairs that will play a role in the polynomials, they must be labels with letters X, Y, or Z.\n",
    "    * If two groups inside the same molecule have the same symmetry, they should be separated. As an example, DMSO should have a symmetry `symmetry = [\"A1B3_A1B3_C1D1\"]`. This allows permutation within the whole methyl groups, but not within the different carbons or hydrogens individually between the two methyl groups.\n",
    "    * The symmetry order MUST match the xyz order."
   ]
  },
  {
   "cell_type": "markdown",
   "metadata": {},
   "source": [
    "The SMILES tag also requires a little bit of explanation. One can get the smiles from open babel:\n",
    "`obabel -ixyz input.xyz -osmiles -O smiles.txt`\n",
    "The order of the atoms in the SMILES string must also match the XYZ order."
   ]
  },
  {
   "cell_type": "code",
   "execution_count": null,
   "metadata": {},
   "outputs": [],
   "source": [
    "# Symmetry of the molecule\n",
    "symmetry = [\"A1B2\"]\n",
    "\n",
    "# SMILES string\n",
    "smiles = [\"C(O)O\"]"
   ]
  },
  {
   "cell_type": "markdown",
   "metadata": {},
   "source": [
    "#### Creating files needed by the code"
   ]
  },
  {
   "cell_type": "markdown",
   "metadata": {},
   "source": [
    "As for 08/12/2019, the `settings` files are still needed. This example is only for a CO2 monomer, so only one settings file is needed."
   ]
  },
  {
   "cell_type": "code",
   "execution_count": null,
   "metadata": {},
   "outputs": [],
   "source": [
    "# Settings for monomer\n",
    "mon_settings = \"monomer_settings.ini\"\n",
    "\n",
    "my_settings_file = \"\"\"\n",
    "[files]\n",
    "# Local path directory to write log files in\n",
    "log_path = \"\"\" + log_path + \"\"\"\n",
    "\n",
    "[config_generator]\n",
    "# what library to use for geometry optimization and normal mode generation\n",
    "code = \"\"\" + code + \"\"\"\n",
    "# use geometric or linear progression for T and A in config generation, exactly 1 must be True\n",
    "geometric = False\n",
    "linear = False\n",
    "\n",
    "[energy_calculator]\n",
    "# what library to use for energy calculations\n",
    "code = \"\"\" + code + \"\"\"\n",
    "\n",
    "[psi4]\n",
    "# memory to use when doing a psi4 calculation\n",
    "memory = \"\"\" + memory + \"\"\"\n",
    "# number of threads to use when executing a psi4 calculation\n",
    "num_threads = \"\"\" + str(num_threads) + \"\"\"\n",
    "\n",
    "[qchem]\n",
    "# number of threads to use when executing a qchem calculation\n",
    "num_threads = \"\"\" + str(num_threads) + \"\"\"\n",
    "\n",
    "[molecule]\n",
    "# name of fragments, seperated by commas\n",
    "names = \"\"\" + names[0] + \"\"\"\n",
    "# number of atoms in each fragment, seperated by commas\n",
    "fragments = \"\"\" + str(number_of_atoms[0]) + \"\"\"\n",
    "# charge of each fragment, seperated by commas\n",
    "charges = \"\"\" + str(charges[0]) + \"\"\"\n",
    "# spin multiplicity of each fragment, seperated by commas\n",
    "spins = \"\"\" + str(spin[0]) + \"\"\"\n",
    "# tag when putting geometries into database\n",
    "tag = none\n",
    "# Use or not MB-pol\n",
    "use_mbpol = \"\"\" + str(use_mbpol[0]) + \"\"\"\n",
    "# symmetry of each fragment, seperated by commas\n",
    "symmetry = \"\"\" + symmetry[0] + \"\"\"\n",
    "SMILES = \"\"\" + smiles[0] + \"\"\"\n",
    "\"\"\""
   ]
  },
  {
   "cell_type": "code",
   "execution_count": null,
   "metadata": {},
   "outputs": [],
   "source": [
    "# Write the file:\n",
    "ff = open(mon_settings,'w')\n",
    "ff.write(my_settings_file)\n",
    "ff.close()"
   ]
  },
  {
   "cell_type": "markdown",
   "metadata": {},
   "source": [
    "Unoptimized geometries of the two monomers are inputed as an [XYZ formatted file](https://en.wikipedia.org/wiki/XYZ_file_format). "
   ]
  },
  {
   "cell_type": "code",
   "execution_count": null,
   "metadata": {},
   "outputs": [],
   "source": [
    "# XYZ file that contains the unoptimized geommetry of monomer 1\n",
    "unopt_mon = \"monomer.xyz\"\n",
    "\n",
    "my_unopt_monomer = \"\"\"3\n",
    "unoptimized co2\n",
    "C   0   0   0\n",
    "O   1.3   0   0\n",
    "O   -1.3  0   0\n",
    "\"\"\""
   ]
  },
  {
   "cell_type": "code",
   "execution_count": null,
   "metadata": {},
   "outputs": [],
   "source": [
    "# Write the file:\n",
    "ff = open(unopt_mon,'w')\n",
    "ff.write(my_unopt_monomer)\n",
    "ff.close()"
   ]
  },
  {
   "cell_type": "markdown",
   "metadata": {},
   "source": [
    "#### Defining files that will be written by the code"
   ]
  },
  {
   "cell_type": "code",
   "execution_count": null,
   "metadata": {},
   "outputs": [],
   "source": [
    "# XYZ file that contains the optimized geommetry of monomer 1\n",
    "opt_mon = \"monomer_opt.xyz\"\n",
    "\n",
    "# File where normal modes of monomer 1 will be outputed\n",
    "normal_modes_mon = \"monomer_normal_modes.dat\""
   ]
  },
  {
   "cell_type": "markdown",
   "metadata": {},
   "source": [
    "Training and test set files. The `training configs` and `test_configs` files will contain the configurations generated by the training set generation functions. Only the geometry (i.e., the coordinates of all atoms for each configuration) will be stored in those files. Later on, we will calculate the energies for each of these configurations, and create the files in the format that will be inputed to the fitting code. These new files are going to be defined in `training_set` and `test_set`. The coordinates in these files will be the same as in the initial `training configs` and `test_configs`, but now the comment line will be filled with the energies needed by the fitting code."
   ]
  },
  {
   "cell_type": "code",
   "execution_count": null,
   "metadata": {},
   "outputs": [],
   "source": [
    "# XYZ file with the configurations of the training set\n",
    "training_configs = \"training_configs.xyz\"\n",
    "\n",
    "# XYZ file with the configurations of the test set\n",
    "test_configs = \"test_configs.xyz\"\n",
    "\n",
    "# XYZ file with the training set that the codes need to perform the fit\n",
    "# Configurations are the same as training_configs but this file\n",
    "# has the energies in the comment line\n",
    "training_set = \"training_set.xyz\"\n",
    "\n",
    "# XYZ file with the test set that the codes need to perform the fit\n",
    "# Configurations are the same as test_configs but this file\n",
    "# has the energies in the comment line \n",
    "test_set = \"test_set.xyz\""
   ]
  },
  {
   "cell_type": "markdown",
   "metadata": {},
   "source": [
    "The information about the training, test, energies... is stored in an `postgreSQL` database. In principle there is no need to interact with this database, since everything is automatized, but you might want to retrieve some information at some point.\n",
    "\n",
    "The database_config `.ini` file should contain one section `[database]` with 5 properties:\n",
    "* `host`: The address of the server where the database is hosted.\n",
    "* `port`: The port used to connect to the database.\n",
    "* `database`: The name of the database.\n",
    "* `username`: Your username to connect to the database.\n",
    "* `password`: Your password to connect to the database.\n",
    "\n",
    "For now use these parameters:\n",
    "\n",
    "* `host`: piggy.pl.ucsd.edu\n",
    "* `port`: 5432\n",
    "* `database`: potential_fitting\n",
    "* `username`: potential_fitting\n",
    "* `password`: Please contact Ethan or Kaushik for the password.\n",
    "\n",
    "The username potential_fitting was established as a general username that anyone who only needs basic access to the database can use. Alternatively, each user has their own username and password you can use. For most of you, this should be the same as your ucsd email prefix and password.\n",
    "\n",
    "The file database.ini does not exist in the git repo, so you will have to create a file and update the variable below to be its filepath. For some reason, python doesn't like it when you use `~` to specify your home directory, so provide a relateive or absolute path instead. It is recommended that you create the file in your home directory.\n",
    "\n",
    "<h3 style=\"color:red;\">Make sure only you have read access to this file using the chmod command or else anyone on our fileserver will be able to see your password and <b>PLEASE DO NOT ACCIDENTALLY COMMIT A FILE CONTAINING YOUR PASSWORD VIA GIT!</b></h3>\n",
    "\n",
    "cleint_name is used in the database to track what machines performed what calculations. Please use something that indicates where you are running the calculations."
   ]
  },
  {
   "cell_type": "code",
   "execution_count": null,
   "metadata": {},
   "outputs": [],
   "source": [
    "# PostgreSQL database that stores structures and energies\n",
    "database_config = \"local.ini\"\n",
    "client_name = \"motzu the survivor\""
   ]
  },
  {
   "cell_type": "code",
   "execution_count": null,
   "metadata": {},
   "outputs": [],
   "source": [
    "my_database_settings = \"\"\"[database]\n",
    "host = piggy.pl.ucsd.edu\n",
    "port = 5432\n",
    "database = potential_fitting\n",
    "username = potential_fitting\n",
    "password = 9t8ARDuN2Wy49VtMOrcJyHtOzyKhkiId\n",
    "\"\"\"\n",
    "\n",
    "# Write the file. Remember to update the username and password!\n",
    "ff = open(database_config,'w')\n",
    "ff.write(my_database_settings)\n",
    "ff.close()"
   ]
  },
  {
   "cell_type": "markdown",
   "metadata": {},
   "source": [
    "These files will be used by the polynomial generation functions. \n",
    "- `poly_in` is the name of the file that will contain all the information about the polynomials: distances, variables, filters... Later on, once it is created, extra filters can be added. How to add them will be explained later in the tutorial.\n",
    "- `molecule_in` is the symmetry name of your system. It must match the symmetry specified in the settings file, and must follow the same rules. If you are fitting a system larger than a monomer (two-body, three-body...), this is the monomer names separated by an underscore (`_`). As an example, for a CO2 dimer, `molecule_in = A1B2_A1B2`, while for a NH4+ -- H2O dimer, `molecule_in = A1B4_C1D2`.\n",
    "- `poly_directory` is the folder that will be created and will contain all the polynomial files generated.\n",
    "- `monX_config` is the config file from monomer X, should have been generated during the 1b fit for that monomer.\n",
    "- `dimX_config` is the config file from dimer X, should have been generated during the 2b fit for that dimer.\n",
    "- `config` is the name that the file containing all the chemical and physical information about monomers such as charges, C6 coefficients, polarizabilities... It will be generated by the code.\n",
    "- `polynomial_order` specifies the maximum order of the polynomials. "
   ]
  },
  {
   "cell_type": "code",
   "execution_count": null,
   "metadata": {},
   "outputs": [],
   "source": [
    "# Input file for the polynomial generation\n",
    "poly_in = \"poly.in\"\n",
    "\n",
    "# Monomers 1 and 2 separated by '_'\n",
    "molecule_in = symmetry[0]\n",
    "\n",
    "# Directory where the polynomials will be generated\n",
    "poly_directory = \"polynomial_generation\"\n",
    "\n",
    "# Configuration file that contains all the monomer \n",
    "# and dimer information. Will be used to generate the 2B codes.\n",
    "config = \"config.ini\"\n",
    "\n",
    "# Degree of the polynomials\n",
    "polynomial_order = 2"
   ]
  },
  {
   "cell_type": "markdown",
   "metadata": {},
   "source": [
    "#### Directories for the different sections"
   ]
  },
  {
   "cell_type": "markdown",
   "metadata": {},
   "source": [
    "These variables specify the directories where the fitting code for each type of PEF is going to be created.\n",
    "- `mbnrg_directory` will contain the code that fits MB-nrg PEFs for the system specified."
   ]
  },
  {
   "cell_type": "code",
   "execution_count": null,
   "metadata": {},
   "outputs": [],
   "source": [
    "# Directory where mb-nrg fitting code will be stored\n",
    "mbnrg_directory = \"mb-nrg_fit\""
   ]
  },
  {
   "cell_type": "markdown",
   "metadata": {},
   "source": [
    "#### Multiple variables that will be used later"
   ]
  },
  {
   "cell_type": "code",
   "execution_count": null,
   "metadata": {},
   "outputs": [],
   "source": [
    "# Number of configurations in the 1b training_set\n",
    "num_training_configs = 500\n",
    "\n",
    "# Number of configurations in the 1b test set\n",
    "num_test_configs = 100\n",
    "\n",
    "# Maximum energy allowed for distorted monomers (in kcal/mol)\n",
    "mon_emax = 100.0\n",
    "\n",
    "# Maximum binding energy allowed\n",
    "bind_emax = 500.0\n",
    "\n",
    "# Seeds to be used in the configuration generation to ensure different\n",
    "# configurations for training and test\n",
    "seed_training = 12345\n",
    "seed_test = 54321\n",
    "\n",
    "# IDs of the monomers (should be consistent with the 1B id for each)\n",
    "mon_ids = [\"co2\"]\n",
    "\n",
    "# Number of TTM-nrg fits to perform\n",
    "num_mb_fits = 5"
   ]
  },
  {
   "cell_type": "markdown",
   "metadata": {},
   "source": [
    "### 1.2. Generate polynomials"
   ]
  },
  {
   "cell_type": "markdown",
   "metadata": {},
   "source": [
    "We first generate the polynomials to see how many parameters we have in them. A recommended ratio is to have twenty times the number of parameters configurations in the training set."
   ]
  },
  {
   "cell_type": "markdown",
   "metadata": {},
   "source": [
    "#### 1.2.1. Generate polynomial input file"
   ]
  },
  {
   "cell_type": "markdown",
   "metadata": {},
   "source": [
    "This call generates a polynomial input file based on the symmetry of the dimer specified. \n",
    "\n",
    "*Note. Write some more info and doc for the input. Filters by default, new filters that can be added...*\n",
    "<p style=\"color:red;\">Note: the database filepath argument has been exchanged for the database_config in generate_poly_input_from_database </p>"
   ]
  },
  {
   "cell_type": "code",
   "execution_count": null,
   "metadata": {
    "scrolled": true
   },
   "outputs": [],
   "source": [
    "potential_fitting.generate_poly_input(mon_settings, molecule_in, poly_in)"
   ]
  },
  {
   "cell_type": "markdown",
   "metadata": {},
   "source": [
    "#### 1.2.2. Generate maple input files"
   ]
  },
  {
   "cell_type": "markdown",
   "metadata": {},
   "source": [
    "Generate polynomials of the degree specified at the beginning, based on the polynomial input file that we have generated in the previous step."
   ]
  },
  {
   "cell_type": "code",
   "execution_count": null,
   "metadata": {},
   "outputs": [],
   "source": [
    "potential_fitting.generate_polynomials(mon_settings, poly_in, polynomial_order, poly_directory)"
   ]
  },
  {
   "cell_type": "markdown",
   "metadata": {},
   "source": [
    "#### 1.2.3. Optimize the polynomial evaluation"
   ]
  },
  {
   "cell_type": "markdown",
   "metadata": {},
   "source": [
    "The maple input files define the non optimized polynomials. The polynomials can sometimes be large, and **Maple** is able to optimize them to perform the minimum number of floating point operations (FLOPs). It will output three different files. One with non-optimized polynomials, one with optimized polynomials with gradient evaluation, and one without gradient evaluation."
   ]
  },
  {
   "cell_type": "code",
   "execution_count": null,
   "metadata": {},
   "outputs": [],
   "source": [
    "potential_fitting.execute_maple(mon_settings, poly_directory)"
   ]
  },
  {
   "cell_type": "markdown",
   "metadata": {},
   "source": [
    "### 1.3. Geometry optimization and normal mode calculation"
   ]
  },
  {
   "cell_type": "markdown",
   "metadata": {},
   "source": [
    "#### 1.3.1. Monomers"
   ]
  },
  {
   "cell_type": "markdown",
   "metadata": {},
   "source": [
    "Performs a geometry optimization of the monomer at the level of theory specified in `monomer_settings.ini`. **Before running these commands** please make sure that the specifications in the sections `[config_generator]` and `[molecule]` of the corresponding `settings.ini` file are correct and consistent."
   ]
  },
  {
   "cell_type": "code",
   "execution_count": null,
   "metadata": {},
   "outputs": [],
   "source": [
    "# Optimize monomer\n",
    "potential_fitting.optimize_geometry(mon_settings, unopt_mon, opt_mon, method, basis)"
   ]
  },
  {
   "cell_type": "code",
   "execution_count": null,
   "metadata": {},
   "outputs": [],
   "source": [
    "# Get its normal modes\n",
    "potential_fitting.generate_normal_modes(mon_settings, opt_mon,normal_modes_mon, method, basis)"
   ]
  },
  {
   "cell_type": "markdown",
   "metadata": {},
   "source": [
    "### 1.4. Training and test set generation"
   ]
  },
  {
   "cell_type": "markdown",
   "metadata": {},
   "source": [
    "#### 1.4.1. Generate configurations "
   ]
  },
  {
   "cell_type": "markdown",
   "metadata": {},
   "source": [
    "Generates configurations using the normal modes previously calculated. The configrations that we have generated will be stored in an XYZ formatted file with the names we have previously given."
   ]
  },
  {
   "cell_type": "code",
   "execution_count": null,
   "metadata": {},
   "outputs": [],
   "source": [
    "# Get some for the training set\n",
    "potential_fitting.generate_normal_mode_configurations(mon_settings, opt_mon, normal_modes_mon, training_configs, num_training_configs, seed_training)"
   ]
  },
  {
   "cell_type": "code",
   "execution_count": null,
   "metadata": {},
   "outputs": [],
   "source": [
    "# And some for the test set\n",
    "potential_fitting.generate_normal_mode_configurations(mon_settings, opt_mon, normal_modes_mon, test_configs, num_test_configs, seed_test)"
   ]
  },
  {
   "cell_type": "markdown",
   "metadata": {},
   "source": [
    "#### 1.4.2. Add configurations to the database"
   ]
  },
  {
   "cell_type": "markdown",
   "metadata": {},
   "source": [
    "The configurations generated in the previous step will be added to the database. **This step will only add the configurations, not calculate the energy**.\n",
    "\n",
    "The method, basis, and cp need not be the same as used for the geometry optimization. The optimization and normal modes calculation can be performed at a different level of theory than the energy evaluation. **The recommendation is to use the same settings**, but is up to the user to do it so."
   ]
  },
  {
   "cell_type": "code",
   "execution_count": null,
   "metadata": {
    "scrolled": true
   },
   "outputs": [],
   "source": [
    "# Add dimer training set configurations\n",
    "potential_fitting.init_database(mon_settings, database_config, training_configs, method, basis, cp, \"training-ch1\", optimized = False)\n",
    "\n",
    "# Add monomer 1 optimized geommetry to database (needed for binding energy)\n",
    "potential_fitting.init_database(mon_settings, database_config, opt_mon, method, basis, cp, \"training-ch1\", optimized = True)"
   ]
  },
  {
   "cell_type": "code",
   "execution_count": null,
   "metadata": {},
   "outputs": [],
   "source": [
    "# Add dimer training set configurations\n",
    "potential_fitting.init_database(mon_settings, database_config, test_configs, method, basis, cp, \"test-ch1\", optimized = False)\n",
    "\n",
    "# Add monomer 1 optimized geommetry to database (needed for binding energy)\n",
    "potential_fitting.init_database(mon_settings, database_config, opt_mon, method, basis, cp, \"test-ch1\", optimized = True)"
   ]
  },
  {
   "cell_type": "markdown",
   "metadata": {},
   "source": [
    "#### 1.4.3. Calculate energy"
   ]
  },
  {
   "cell_type": "markdown",
   "metadata": {},
   "source": [
    "Loops through every uncalculated energy in the database and calculates it. This will take a while depending on what method/basis you use. If desired, there is an optional argument calculation_count, when set to an integer, it limits the number of calculations to perform."
   ]
  },
  {
   "cell_type": "code",
   "execution_count": null,
   "metadata": {
    "scrolled": true
   },
   "outputs": [],
   "source": [
    "potential_fitting.fill_database(mon_settings, database_config, client_name, \"training-ch1\", \"test-ch1\", calculation_count = None)"
   ]
  },
  {
   "cell_type": "markdown",
   "metadata": {},
   "source": [
    "#### 1.4.4. Training set and Test set generation"
   ]
  },
  {
   "cell_type": "markdown",
   "metadata": {},
   "source": [
    "Generates the training set file in the format that will be needed in the fitting codes. If your database contains energies computed with a variety of methods/basis, **only one method and basis can be used in the same training set**. The format of the training set is the same as the configurations generated for the training set in previous steps. The difference is that now, the comment line will have the binding, and n-body energy of that configuration."
   ]
  },
  {
   "cell_type": "code",
   "execution_count": null,
   "metadata": {
    "scrolled": false
   },
   "outputs": [],
   "source": [
    "# Generate training set\n",
    "potential_fitting.generate_training_set(mon_settings, database_config, training_set, method, basis, cp, \"training-ch1\", e_bind_max = bind_emax, e_mon_max = mon_emax)\n",
    "\n",
    "# Generate test set\n",
    "potential_fitting.generate_training_set(mon_settings, database_config, test_set, method, basis, cp, \"test-ch1\", e_bind_max = bind_emax, e_mon_max = mon_emax)"
   ]
  },
  {
   "cell_type": "markdown",
   "metadata": {},
   "source": [
    "### 1.5. Obtain charges, polarizabilities, and C6"
   ]
  },
  {
   "cell_type": "markdown",
   "metadata": {},
   "source": [
    "In order to perform the fit, charges, polarizabilities, C6, and other properties of the dimer have to be calculated. This is done, for now, with the software **QChem**. This instruction will compute these properties for you. The predefined basis set and method is wb97m-v/avtz. This step can take a long time if the molecule is large.\n",
    "\n",
    "After the calculation is completed, all the information needed for the fits (both MB-nrg and TTM-nrg) will be added in the configuration file specified at the beggining."
   ]
  },
  {
   "cell_type": "code",
   "execution_count": null,
   "metadata": {
    "scrolled": false
   },
   "outputs": [],
   "source": [
    "potential_fitting.generate_fitting_config_file_new(mon_settings, config, geo_paths = [opt_mon])"
   ]
  },
  {
   "cell_type": "markdown",
   "metadata": {},
   "source": [
    "### 1.6. MB-nrg fit"
   ]
  },
  {
   "cell_type": "markdown",
   "metadata": {},
   "source": [
    "#### 1.6.1. Obtain and compile the fitting code"
   ]
  },
  {
   "cell_type": "markdown",
   "metadata": {},
   "source": [
    "Generate 1b fitting code"
   ]
  },
  {
   "cell_type": "code",
   "execution_count": null,
   "metadata": {
    "scrolled": false
   },
   "outputs": [],
   "source": [
    "potential_fitting.generate_mbnrg_fitting_code(mon_settings, config, poly_in, poly_directory, polynomial_order, mbnrg_directory)"
   ]
  },
  {
   "cell_type": "markdown",
   "metadata": {},
   "source": [
    "And we compile it."
   ]
  },
  {
   "cell_type": "code",
   "execution_count": null,
   "metadata": {},
   "outputs": [],
   "source": [
    "potential_fitting.compile_fit_code(mon_settings, mbnrg_directory)"
   ]
  },
  {
   "cell_type": "markdown",
   "metadata": {},
   "source": [
    "### 1.6.2. Perform the fit"
   ]
  },
  {
   "cell_type": "markdown",
   "metadata": {},
   "source": [
    "This command will prepare as many folders as fits one needs to run with a bash script that will execute the fit and save the output. If there are 5 fit folders and we run 2 more, two new fit folders will be created."
   ]
  },
  {
   "cell_type": "code",
   "execution_count": null,
   "metadata": {
    "scrolled": true
   },
   "outputs": [],
   "source": [
    "potential_fitting.prepare_fits(mon_settings, mbnrg_directory + \"/fit-1b\", training_set, num_fits = 3)"
   ]
  },
  {
   "cell_type": "markdown",
   "metadata": {},
   "source": [
    "Now all the fits need to run. This can be done externally or run directly with the following command."
   ]
  },
  {
   "cell_type": "code",
   "execution_count": null,
   "metadata": {},
   "outputs": [],
   "source": [
    "potential_fitting.execute_fits(mon_settings)"
   ]
  },
  {
   "cell_type": "markdown",
   "metadata": {},
   "source": [
    "And finally we retrieve the best fit"
   ]
  },
  {
   "cell_type": "code",
   "execution_count": null,
   "metadata": {},
   "outputs": [],
   "source": [
    "potential_fitting.retrieve_best_fit(mon_settings, ttm = False, fitted_nc_path = \"mbnrg.nc\")"
   ]
  },
  {
   "cell_type": "markdown",
   "metadata": {},
   "source": [
    "### 1.7. Visualize the results"
   ]
  },
  {
   "cell_type": "markdown",
   "metadata": {},
   "source": [
    "Finally, we can plot the correlation plots for the training and test sets, along with the error, using this helper function."
   ]
  },
  {
   "cell_type": "code",
   "execution_count": null,
   "metadata": {
    "scrolled": true
   },
   "outputs": [],
   "source": [
    "%matplotlib inline\n",
    "# TODO"
   ]
  },
  {
   "cell_type": "markdown",
   "metadata": {},
   "source": [
    "### 1.8 Add files to MBX"
   ]
  },
  {
   "cell_type": "code",
   "execution_count": null,
   "metadata": {},
   "outputs": [],
   "source": [
    "potential_fitting.fitting.generate_software_files(mon_settings, config, mon_ids, polynomial_order, ttm_only = False, MBX_HOME = None, version = \"v1\")"
   ]
  },
  {
   "cell_type": "markdown",
   "metadata": {},
   "source": [
    "### 1.9. Wrapping up"
   ]
  },
  {
   "cell_type": "markdown",
   "metadata": {},
   "source": [
    "Now we can get out of the 1b folder, after we have obtained the fit."
   ]
  },
  {
   "cell_type": "markdown",
   "metadata": {},
   "source": [
    "## Chapter 2. Generate a CO2-CO2 two-body TTM-nrg PEF"
   ]
  },
  {
   "cell_type": "markdown",
   "metadata": {},
   "source": [
    "### 2.1. Definition of the variables"
   ]
  },
  {
   "cell_type": "markdown",
   "metadata": {},
   "source": [
    "This chapter is going to guide us through the process of obtaining a two-body TTM-nrg PEF for a CO2 dimer. Let's make a folder for this chapter."
   ]
  },
  {
   "cell_type": "code",
   "execution_count": null,
   "metadata": {},
   "outputs": [],
   "source": [
    "os.chdir(main_dir)\n",
    "os.system(\"mkdir -p chapter2_co2_2b_ttmnrg\")\n",
    "os.chdir(\"chapter2_co2_2b_ttmnrg\")"
   ]
  },
  {
   "cell_type": "markdown",
   "metadata": {},
   "source": [
    "#### Specifications of the QC calculations\n",
    "Next we are gonna define the method that we want to use to calculate energies, along with some other technical details."
   ]
  },
  {
   "cell_type": "code",
   "execution_count": null,
   "metadata": {},
   "outputs": [],
   "source": [
    "# The software that will be used to perform all the calculations\n",
    "#code = \"qchem\"\n",
    "code = \"psi4\"\n",
    "\n",
    "# The quantum chemistry method we want to use\n",
    "method = \"HF\"\n",
    "#method = \"MP2\"\n",
    "#method = \"wb97m-v\"\n",
    "\n",
    "# Basis set to use. Must be pre-defined in the software. Custom basis sets not implemented yet.\n",
    "basis = \"STO-3G\"\n",
    "\n",
    "# Use counter-poise correction or not.\n",
    "cp = False\n",
    "#cp = True\n",
    "\n",
    "# Number of threads and memory we would like to use\n",
    "num_threads = 2\n",
    "memory = \"4GB\"\n",
    "\n",
    "# This is the path where all the log files will be stored.\n",
    "log_path = \"logs\""
   ]
  },
  {
   "cell_type": "markdown",
   "metadata": {},
   "source": [
    "#### Monomer specifications\n",
    "This section will be used to define all the specifications that define the monomer. In this case there is only one monomer, but we still need to specify the properties as a list, since when more monomers are present, we need to specify them in a list."
   ]
  },
  {
   "cell_type": "code",
   "execution_count": null,
   "metadata": {},
   "outputs": [],
   "source": [
    "# Names that will identify the monomers. This is used for identification purposes only.\n",
    "names = [\"CO2\",\"CO2\"]\n",
    "\n",
    "# Number of atoms of each monomer\n",
    "number_of_atoms = [3,3]\n",
    "\n",
    "# Charge of each monomer\n",
    "charges = [0,0]\n",
    "\n",
    "# Spin multiplicity of each monomer\n",
    "spin = [1,1]\n",
    "\n",
    "# Use MB-pol for water (if applicable). \n",
    "# If 1 will use the Partridge-Shwenke PEF for water, with the position dependent charges.\n",
    "use_mbpol = [0,0]"
   ]
  },
  {
   "cell_type": "markdown",
   "metadata": {},
   "source": [
    "The symmetry tag requires a little bit of explanation. It contains the atom identity for the monomers. Some examples are `symmetry = [\"A1B4\"]` for methane monomer, `symmetry = [\"A1B2\",\"A1B2\"]` for a CO2 dimer, `symmetry = [\"A6B6\",\"C1D2\"]` for a benzene -- water dimer without lone pairs, and `symmetry = [\"A1B2Z2\",\"C1D2\"]` for a H2O -- SO2 dimer with lone pairs. The rules are the following:\n",
    "    * Symmetry names must be written in capital letters and start with A for the first atom of the first monomer. Any new atom type will be assigned the next letter of the alphabet.\n",
    "    * Exchangable atoms must have the same label, even if they are in different molecules.\n",
    "    * As for today, no more than 9 atoms of the same atom type is accepted.\n",
    "    * If there are virtual sites such as lone pairs that will play a role in the polynomials, they must be labels with letters X, Y, or Z.\n",
    "    * If two groups inside the same molecule have the same symmetry, they should be separated. As an example, DMSO should have a symmetry `symmetry = [\"A1B3_A1B3_C1D1\"]`. This allows permutation within the whole methyl groups, but not within the different carbons or hydrogens individually between the two methyl groups.\n",
    "    * The symmetry order MUST match the xyz order."
   ]
  },
  {
   "cell_type": "markdown",
   "metadata": {},
   "source": [
    "The SMILES tag also requires a little bit of explanation. One can get the smiles from open babel:\n",
    "`obabel -ixyz input.xyz -osmiles -O smiles.txt`\n",
    "The order of the atoms in the SMILES string must also match the XYZ order."
   ]
  },
  {
   "cell_type": "code",
   "execution_count": null,
   "metadata": {},
   "outputs": [],
   "source": [
    "# Symmetry of the molecule\n",
    "symmetry = [\"A1B2\", \"A1B2\"]\n",
    "\n",
    "# SMILES string\n",
    "smiles = [\"C(O)O\", \"C(O)O\"]"
   ]
  },
  {
   "cell_type": "markdown",
   "metadata": {},
   "source": [
    "#### Creating files needed by the code"
   ]
  },
  {
   "cell_type": "markdown",
   "metadata": {},
   "source": [
    "As for 08/12/2019, the `settings` files are still needed. This example is only for a CO2 dimer, so only one settings file is needed for the monomers, since they are the same, and one for the dimer."
   ]
  },
  {
   "cell_type": "code",
   "execution_count": null,
   "metadata": {},
   "outputs": [],
   "source": [
    "# Settings for monomer\n",
    "mon_settings = \"monomer_settings.ini\"\n",
    "\n",
    "my_settings_file_mon = \"\"\"\n",
    "[files]\n",
    "# Local path directory to write log files in\n",
    "log_path = \"\"\" + log_path + \"\"\"\n",
    "\n",
    "[config_generator]\n",
    "# what library to use for geometry optimization and normal mode generation\n",
    "code = \"\"\" + code + \"\"\"\n",
    "# use geometric or linear progression for T and A in config generation, exactly 1 must be True\n",
    "geometric = False\n",
    "linear = False\n",
    "\n",
    "[energy_calculator]\n",
    "# what library to use for energy calculations\n",
    "code = \"\"\" + code + \"\"\"\n",
    "\n",
    "[psi4]\n",
    "# memory to use when doing a psi4 calculation\n",
    "memory = \"\"\" + memory + \"\"\"\n",
    "# number of threads to use when executing a psi4 calculation\n",
    "num_threads = \"\"\" + str(num_threads) + \"\"\"\n",
    "\n",
    "[qchem]\n",
    "# number of threads to use when executing a qchem calculation\n",
    "num_threads = \"\"\" + str(num_threads) + \"\"\"\n",
    "\n",
    "[molecule]\n",
    "# name of fragments, seperated by commas\n",
    "names = \"\"\" + names[0] + \"\"\"\n",
    "# number of atoms in each fragment, seperated by commas\n",
    "fragments = \"\"\" + str(number_of_atoms[0]) + \"\"\"\n",
    "# charge of each fragment, seperated by commas\n",
    "charges = \"\"\" + str(charges[0]) + \"\"\"\n",
    "# spin multiplicity of each fragment, seperated by commas\n",
    "spins = \"\"\" + str(spin[0]) + \"\"\"\n",
    "# tag when putting geometries into database\n",
    "tag = none\n",
    "# Use or not MB-pol\n",
    "use_mbpol = \"\"\" + str(use_mbpol[0]) + \"\"\"\n",
    "# symmetry of each fragment, seperated by commas\n",
    "symmetry = \"\"\" + symmetry[0] + \"\"\"\n",
    "SMILES = \"\"\" + smiles[0] + \"\"\"\n",
    "\"\"\""
   ]
  },
  {
   "cell_type": "code",
   "execution_count": null,
   "metadata": {},
   "outputs": [],
   "source": [
    "# Settings for dimer\n",
    "dim_settings = \"dimer_settings.ini\"\n",
    "\n",
    "my_settings_file_dim = \"\"\"\n",
    "[files]\n",
    "# Local path directory to write log files in\n",
    "log_path = \"\"\" + log_path + \"\"\"\n",
    "\n",
    "[config_generator]\n",
    "# what library to use for geometry optimization and normal mode generation\n",
    "code = \"\"\" + code + \"\"\"\n",
    "# use geometric or linear progression for T and A in config generation, exactly 1 must be True\n",
    "geometric = False\n",
    "linear = False\n",
    "\n",
    "[energy_calculator]\n",
    "# what library to use for energy calculations\n",
    "code = \"\"\" + code + \"\"\"\n",
    "\n",
    "[psi4]\n",
    "# memory to use when doing a psi4 calculation\n",
    "memory = \"\"\" + memory + \"\"\"\n",
    "# number of threads to use when executing a psi4 calculation\n",
    "num_threads = \"\"\" + str(num_threads) + \"\"\"\n",
    "\n",
    "[qchem]\n",
    "# number of threads to use when executing a qchem calculation\n",
    "num_threads = \"\"\" + str(num_threads) + \"\"\"\n",
    "\n",
    "[molecule]\n",
    "# name of fragments, seperated by commas\n",
    "names = \"\"\" + names[0] + \",\" + names[1] + \"\"\"\n",
    "# number of atoms in each fragment, seperated by commas\n",
    "fragments = \"\"\" + str(number_of_atoms[0]) + \"\"\",\"\"\" + str(number_of_atoms[1]) + \"\"\"\n",
    "# charge of each fragment, seperated by commas\n",
    "charges = \"\"\" + str(charges[0]) + \"\"\",\"\"\" + str(charges[1]) + \"\"\"\n",
    "# spin multiplicity of each fragment, seperated by commas\n",
    "spins = \"\"\" + str(spin[0]) + \"\"\",\"\"\" + str(spin[1]) + \"\"\"\n",
    "# tag when putting geometries into database\n",
    "tag = none\n",
    "# Use or not MB-pol\n",
    "use_mbpol = \"\"\" + str(use_mbpol[0]) + \"\"\",\"\"\" + str(use_mbpol[1]) + \"\"\"\n",
    "# symmetry of each fragment, seperated by commas\n",
    "symmetry = \"\"\" + symmetry[0] + \"\"\",\"\"\" + symmetry[1] + \"\"\"\n",
    "SMILES = \"\"\" + smiles[0] + \"\"\",\"\"\" + smiles[1] + \"\"\"\n",
    "\"\"\""
   ]
  },
  {
   "cell_type": "code",
   "execution_count": null,
   "metadata": {},
   "outputs": [],
   "source": [
    "# Write the files:\n",
    "ff = open(mon_settings,'w')\n",
    "ff.write(my_settings_file_mon)\n",
    "ff.close()\n",
    "\n",
    "ff = open(dim_settings,'w')\n",
    "ff.write(my_settings_file_dim)\n",
    "ff.close()"
   ]
  },
  {
   "cell_type": "markdown",
   "metadata": {},
   "source": [
    "Unoptimized geometries of the two monomers are inputed as an [XYZ formatted file](https://en.wikipedia.org/wiki/XYZ_file_format). "
   ]
  },
  {
   "cell_type": "code",
   "execution_count": null,
   "metadata": {},
   "outputs": [],
   "source": [
    "# XYZ file that contains the unoptimized geommetry of the monomer\n",
    "unopt_mon = \"monomer.xyz\"\n",
    "\n",
    "my_unopt_monomer = \"\"\"3\n",
    "unoptimized co2\n",
    "C   0   0   0\n",
    "O   1.3   0   0\n",
    "O   -1.3  0   0\n",
    "\"\"\""
   ]
  },
  {
   "cell_type": "code",
   "execution_count": null,
   "metadata": {},
   "outputs": [],
   "source": [
    "# Write the file:\n",
    "ff = open(unopt_mon,'w')\n",
    "ff.write(my_unopt_monomer)\n",
    "ff.close()"
   ]
  },
  {
   "cell_type": "markdown",
   "metadata": {},
   "source": [
    "#### Defining files that will be written by the code"
   ]
  },
  {
   "cell_type": "code",
   "execution_count": null,
   "metadata": {},
   "outputs": [],
   "source": [
    "# XYZ file that contains the optimized geommetry of the monomer\n",
    "opt_mon = \"monomer_opt.xyz\"\n",
    "\n",
    "# File where normal modes of monomer 1 will be outputed\n",
    "normal_modes_mon = \"monomer_normal_modes.dat\"\n",
    "\n",
    "# Same for dimer\n",
    "unopt_dim = \"dimer.xyz\"\n",
    "opt_dim = \"dimer_opt.xyz\"\n",
    "normal_modes_dim = \"dimer_normal_modes.dat\""
   ]
  },
  {
   "cell_type": "markdown",
   "metadata": {},
   "source": [
    "Training and test set files. The `training configs` and `test_configs` files will contain the configurations generated by the training set generation functions. Only the geometry (i.e., the coordinates of all atoms for each configuration) will be stored in those files. Later on, we will calculate the energies for each of these configurations, and create the files in the format that will be inputed to the fitting code. These new files are going to be defined in `training_set` and `test_set`. The coordinates in these files will be the same as in the initial `training configs` and `test_configs`, but now the comment line will be filled with the energies needed by the fitting code."
   ]
  },
  {
   "cell_type": "code",
   "execution_count": null,
   "metadata": {},
   "outputs": [],
   "source": [
    "# XYZ file with the configurations of the training set\n",
    "training_configs = \"training_configs.xyz\"\n",
    "\n",
    "# XYZ file with the configurations of the test set\n",
    "test_configs = \"test_configs.xyz\"\n",
    "\n",
    "# XYZ file with the training set that the codes need to perform the fit\n",
    "# Configurations are the same as training_configs but this file\n",
    "# has the energies in the comment line\n",
    "training_set = \"training_set.xyz\"\n",
    "\n",
    "# XYZ file with the test set that the codes need to perform the fit\n",
    "# Configurations are the same as test_configs but this file\n",
    "# has the energies in the comment line \n",
    "test_set = \"test_set.xyz\""
   ]
  },
  {
   "cell_type": "markdown",
   "metadata": {},
   "source": [
    "The information about the training, test, energies... is stored in an `postgreSQL` database. In principle there is no need to interact with this database, since everything is automatized, but you might want to retrieve some information at some point.\n",
    "\n",
    "The database_config `.ini` file should contain one section `[database]` with 5 properties:\n",
    "* `host`: The address of the server where the database is hosted.\n",
    "* `port`: The port used to connect to the database.\n",
    "* `database`: The name of the database.\n",
    "* `username`: Your username to connect to the database.\n",
    "* `password`: Your password to connect to the database.\n",
    "\n",
    "For now use these parameters:\n",
    "\n",
    "* `host`: piggy.pl.ucsd.edu\n",
    "* `port`: 5432\n",
    "* `database`: potential_fitting\n",
    "* `username`: potential_fitting\n",
    "* `password`: Please contact Ethan or Kaushik for the password.\n",
    "\n",
    "The username potential_fitting was established as a general username that anyone who only needs basic access to the database can use. Alternatively, each user has their own username and password you can use. For most of you, this should be the same as your ucsd email prefix and password.\n",
    "\n",
    "The file database.ini does not exist in the git repo, so you will have to create a file and update the variable below to be its filepath. For some reason, python doesn't like it when you use `~` to specify your home directory, so provide a relateive or absolute path instead. It is recommended that you create the file in your home directory.\n",
    "\n",
    "<h3 style=\"color:red;\">Make sure only you have read access to this file using the chmod command or else anyone on our fileserver will be able to see your password and <b>PLEASE DO NOT ACCIDENTALLY COMMIT A FILE CONTAINING YOUR PASSWORD VIA GIT!</b></h3>\n",
    "\n",
    "cleint_name is used in the database to track what machines performed what calculations. Please use something that indicates where you are running the calculations."
   ]
  },
  {
   "cell_type": "code",
   "execution_count": null,
   "metadata": {},
   "outputs": [],
   "source": [
    "# PostgreSQL database that stores structures and energies\n",
    "database_config = \"local.ini\"\n",
    "client_name = \"pikachu\""
   ]
  },
  {
   "cell_type": "code",
   "execution_count": null,
   "metadata": {},
   "outputs": [],
   "source": [
    "my_database_settings = \"\"\"[database]\n",
    "host = piggy.pl.ucsd.edu\n",
    "port = 5432\n",
    "database = potential_fitting\n",
    "username = potential_fitting\n",
    "password = 9t8ARDuN2Wy49VtMOrcJyHtOzyKhkiId\n",
    "\"\"\"\n",
    "\n",
    "# Write the file. Remember to update the username and password!\n",
    "ff = open(database_config,'w')\n",
    "ff.write(my_database_settings)\n",
    "ff.close()"
   ]
  },
  {
   "cell_type": "markdown",
   "metadata": {},
   "source": [
    "In this chapter we are not going to use polynomials. However, the code that generates the MB-nrg fitting code is also the same as the one that generates the TTM-nrg one. Thus, we will need to generate polynomials anyways."
   ]
  },
  {
   "cell_type": "code",
   "execution_count": null,
   "metadata": {},
   "outputs": [],
   "source": [
    "# Monomers 1 and 2 separated by '_'\n",
    "molecule_in = \"_\".join(symmetry)\n",
    "\n",
    "# Configuration file that contains all the monomer \n",
    "# and dimer information. Will be used to generate the 2B codes.\n",
    "config = \"config.ini\"\n",
    "\n",
    "# Input file for the polynomial generation\n",
    "poly_in = \"poly.in\"\n",
    "\n",
    "# Directory where the polynomials will be generated\n",
    "poly_directory = \"polynomial_generation\"\n",
    "\n",
    "# Degree of the polynomials\n",
    "polynomial_order = 2"
   ]
  },
  {
   "cell_type": "markdown",
   "metadata": {},
   "source": [
    "#### Directories for the different sections"
   ]
  },
  {
   "cell_type": "markdown",
   "metadata": {},
   "source": [
    "These variables specify the directories where the fitting code for each type of PEF is going to be created.\n",
    "- `ttmnrg_directory` will contain the code that fits TTM-nrg PEFs for the system specified."
   ]
  },
  {
   "cell_type": "code",
   "execution_count": null,
   "metadata": {},
   "outputs": [],
   "source": [
    "# Directory where ttm-nrg fitting code will be stored\n",
    "ttmnrg_directory = \"ttm-nrg_fit\""
   ]
  },
  {
   "cell_type": "markdown",
   "metadata": {},
   "source": [
    "#### Multiple variables that will be used later"
   ]
  },
  {
   "cell_type": "code",
   "execution_count": null,
   "metadata": {},
   "outputs": [],
   "source": [
    "# Number of configurations in the 2b training_set\n",
    "num_training_configs = 200\n",
    "\n",
    "# Number of configurations in the 2b test set\n",
    "num_test_configs = 50\n",
    "\n",
    "# Maximum energy allowed for distorted monomers (in kcal/mol)\n",
    "mon_emax = 30.0\n",
    "\n",
    "# Maximum binding energy allowed\n",
    "bind_emax = 500.0\n",
    "\n",
    "# Minimum and maximum distance between the two monomers\n",
    "min_d_2b = 1.0\n",
    "max_d_2b = 9.0\n",
    "\n",
    "# Minimum fraction of the VdW distance that is allowed between any atoms that belong to different monomers\n",
    "min_inter_d = 0.5\n",
    "\n",
    "# Seeds to be used in the configuration generation to ensure different\n",
    "# configurations for training and test\n",
    "seed_training = 12345\n",
    "seed_test = 54321\n",
    "\n",
    "# IDs of the monomers (should be consistent with the 1B id for each)\n",
    "mon_ids = [\"co2\",\"co2\"]\n",
    "\n",
    "# Number of TTM-nrg fits to perform\n",
    "num_ttm_fits = 5"
   ]
  },
  {
   "cell_type": "markdown",
   "metadata": {},
   "source": [
    "### 2.2. Generate polynomials"
   ]
  },
  {
   "cell_type": "markdown",
   "metadata": {},
   "source": [
    "We first generate the polynomials to see how many parameters we have in them. A recommended ratio is to have twenty times the number of parameters configurations in the training set."
   ]
  },
  {
   "cell_type": "markdown",
   "metadata": {},
   "source": [
    "#### 2.2.1. Generate polynomial input file"
   ]
  },
  {
   "cell_type": "markdown",
   "metadata": {},
   "source": [
    "This call generates a polynomial input file based on the symmetry of the dimer specified. \n",
    "\n",
    "*Note. Write some more info and doc for the input. Filters by default, new filters that can be added...*\n",
    "<p style=\"color:red;\">Note: the database filepath argument has been exchanged for the database_config in generate_poly_input_from_database </p>"
   ]
  },
  {
   "cell_type": "code",
   "execution_count": null,
   "metadata": {
    "scrolled": true
   },
   "outputs": [],
   "source": [
    "potential_fitting.generate_poly_input(dim_settings, molecule_in, poly_in)"
   ]
  },
  {
   "cell_type": "markdown",
   "metadata": {},
   "source": [
    "#### 2.2.2. Generate maple input files"
   ]
  },
  {
   "cell_type": "markdown",
   "metadata": {},
   "source": [
    "Generate polynomials of the degree specified at the beginning, based on the polynomial input file that we have generated in the previous step."
   ]
  },
  {
   "cell_type": "code",
   "execution_count": null,
   "metadata": {},
   "outputs": [],
   "source": [
    "potential_fitting.generate_polynomials(dim_settings, poly_in, polynomial_order, poly_directory)"
   ]
  },
  {
   "cell_type": "markdown",
   "metadata": {},
   "source": [
    "#### 2.2.3. Optimize the polynomial evaluation"
   ]
  },
  {
   "cell_type": "markdown",
   "metadata": {},
   "source": [
    "The maple input files define the non optimized polynomials. The polynomials can sometimes be large, and **Maple** is able to optimize them to perform the minimum number of floating point operations (FLOPs). It will output three different files. One with non-optimized polynomials, one with optimized polynomials with gradient evaluation, and one without gradient evaluation."
   ]
  },
  {
   "cell_type": "code",
   "execution_count": null,
   "metadata": {},
   "outputs": [],
   "source": [
    "potential_fitting.execute_maple(dim_settings, poly_directory)"
   ]
  },
  {
   "cell_type": "markdown",
   "metadata": {},
   "source": [
    "### 2.3. Geometry optimization and normal mode calculation"
   ]
  },
  {
   "cell_type": "markdown",
   "metadata": {},
   "source": [
    "#### 2.3.1. Monomers"
   ]
  },
  {
   "cell_type": "markdown",
   "metadata": {},
   "source": [
    "Performs a geometry optimization of the monomer at the level of theory specified in `monomer_settings.ini`. **Before running these commands** please make sure that the specifications in the sections `[config_generator]` and `[molecule]` of the corresponding `settings.ini` file are correct and consistent."
   ]
  },
  {
   "cell_type": "code",
   "execution_count": null,
   "metadata": {},
   "outputs": [],
   "source": [
    "# Optimize monomer\n",
    "potential_fitting.optimize_geometry(mon_settings, unopt_mon, opt_mon, method, basis)"
   ]
  },
  {
   "cell_type": "code",
   "execution_count": null,
   "metadata": {},
   "outputs": [],
   "source": [
    "# Get its normal modes\n",
    "potential_fitting.generate_normal_modes(mon_settings, opt_mon,normal_modes_mon, method, basis)"
   ]
  },
  {
   "cell_type": "markdown",
   "metadata": {},
   "source": [
    "#### 2.3.2. Dimer"
   ]
  },
  {
   "cell_type": "markdown",
   "metadata": {},
   "source": [
    "Since TTM-nrg does not have any intramolecular terms at the two-body level, no further calculations for the dimer are needed."
   ]
  },
  {
   "cell_type": "markdown",
   "metadata": {},
   "source": [
    "### 2.4. Training and Test Set generation"
   ]
  },
  {
   "cell_type": "markdown",
   "metadata": {},
   "source": [
    "#### 2.4.1. Generate configurations"
   ]
  },
  {
   "cell_type": "code",
   "execution_count": null,
   "metadata": {},
   "outputs": [],
   "source": [
    "# Training Set\n",
    "potential_fitting.generate_2b_configurations(dim_settings, opt_mon, opt_mon, num_training_configs, training_configs, min_d_2b, max_d_2b, min_inter_d, seed_training)"
   ]
  },
  {
   "cell_type": "code",
   "execution_count": null,
   "metadata": {},
   "outputs": [],
   "source": [
    "# Test Set\n",
    "potential_fitting.generate_2b_configurations(dim_settings, opt_mon, opt_mon, num_test_configs, test_configs, min_d_2b, max_d_2b, min_inter_d, seed_training)"
   ]
  },
  {
   "cell_type": "markdown",
   "metadata": {},
   "source": [
    "#### 2.4.2. Add configurations to the database"
   ]
  },
  {
   "cell_type": "code",
   "execution_count": null,
   "metadata": {},
   "outputs": [],
   "source": [
    "# Training set\n",
    "potential_fitting.init_database(dim_settings, database_config, training_configs, method, basis, cp, \"training\", optimized = False)"
   ]
  },
  {
   "cell_type": "code",
   "execution_count": null,
   "metadata": {},
   "outputs": [],
   "source": [
    "# Test Set\n",
    "potential_fitting.init_database(dim_settings, database_config, test_configs, method, basis, cp, \"test\", optimized = False)"
   ]
  },
  {
   "cell_type": "code",
   "execution_count": null,
   "metadata": {},
   "outputs": [],
   "source": [
    "# Add monomer optimized geommetry to database (needed for binding energy)\n",
    "potential_fitting.init_database(mon_settings, database_config, opt_mon, method, basis, cp, \"training\", optimized = True)\n",
    "potential_fitting.init_database(mon_settings, database_config, opt_mon, method, basis, cp, \"test\", optimized = True)"
   ]
  },
  {
   "cell_type": "markdown",
   "metadata": {},
   "source": [
    "#### 2.4.3. Fill the database"
   ]
  },
  {
   "cell_type": "code",
   "execution_count": null,
   "metadata": {},
   "outputs": [],
   "source": [
    "potential_fitting.fill_database(dim_settings, database_config, client_name, \"training\", \"test\", calculation_count = None)"
   ]
  },
  {
   "cell_type": "markdown",
   "metadata": {},
   "source": [
    "#### 2.4.4. Training set and Test set generation"
   ]
  },
  {
   "cell_type": "markdown",
   "metadata": {},
   "source": [
    "Generates the training set file in the format that will be needed in the fitting codes. If your database contains energies computed with a variety of methods/basis, **only one method and basis can be used in the same training set**. The format of the training set is the same as the configurations generated for the training set in previous steps. The difference is that now, the comment line will have the binding, and n-body energy of that configuration."
   ]
  },
  {
   "cell_type": "code",
   "execution_count": null,
   "metadata": {
    "scrolled": false
   },
   "outputs": [],
   "source": [
    "# Generate training set\n",
    "potential_fitting.generate_training_set(dim_settings, database_config, training_set, method, basis, cp, \"training\", e_bind_max = bind_emax, e_mon_max = mon_emax)\n",
    "\n",
    "# Generate test set\n",
    "potential_fitting.generate_training_set(dim_settings, database_config, test_set, method, basis, cp, \"test\", e_bind_max = bind_emax, e_mon_max = mon_emax)"
   ]
  },
  {
   "cell_type": "markdown",
   "metadata": {},
   "source": [
    "### 2.5. Obtain charges, polarizabilities, and C6"
   ]
  },
  {
   "cell_type": "markdown",
   "metadata": {},
   "source": [
    "In order to perform the fit, charges, polarizabilities, C6, and other properties of the dimer have to be calculated. This is done, for now, with the software **QChem**. This instruction will compute these properties for you. The predefined basis set and method is wb97m-v/avtz. This step can take a long time if the molecule is large.\n",
    "\n",
    "After the calculation is completed, all the information needed for the fits (both MB-nrg and TTM-nrg) will be added in the configuration file specified at the beggining."
   ]
  },
  {
   "cell_type": "code",
   "execution_count": null,
   "metadata": {
    "scrolled": false
   },
   "outputs": [],
   "source": [
    "potential_fitting.generate_fitting_config_file_new(dim_settings, config, geo_paths = [opt_mon, opt_mon])"
   ]
  },
  {
   "cell_type": "markdown",
   "metadata": {},
   "source": [
    "### 2.6. Fitting the TTM-nrg PEF"
   ]
  },
  {
   "cell_type": "markdown",
   "metadata": {},
   "source": [
    "#### 2.6.1. Obtain and compile the fitting code"
   ]
  },
  {
   "cell_type": "markdown",
   "metadata": {},
   "source": [
    "Generate MB-nrg / TTM-nrg combined fitting code"
   ]
  },
  {
   "cell_type": "code",
   "execution_count": null,
   "metadata": {
    "scrolled": false
   },
   "outputs": [],
   "source": [
    "potential_fitting.generate_mbnrg_fitting_code(dim_settings, config, poly_in, poly_directory, polynomial_order, ttmnrg_directory)"
   ]
  },
  {
   "cell_type": "markdown",
   "metadata": {},
   "source": [
    "And we compile it."
   ]
  },
  {
   "cell_type": "code",
   "execution_count": null,
   "metadata": {},
   "outputs": [],
   "source": [
    "potential_fitting.compile_fit_code(dim_settings, ttmnrg_directory)"
   ]
  },
  {
   "cell_type": "markdown",
   "metadata": {},
   "source": [
    "#### 2.6.2. Perform the fit"
   ]
  },
  {
   "cell_type": "markdown",
   "metadata": {},
   "source": [
    "This command will prepare as many folders as fits one needs to run with a bash script that will execute the fit and save the output. If there are 5 fit folders and we run 2 more, two new fit folders will be created."
   ]
  },
  {
   "cell_type": "code",
   "execution_count": null,
   "metadata": {},
   "outputs": [],
   "source": [
    "potential_fitting.prepare_fits(dim_settings, ttmnrg_directory + \"/fit-2b-ttm\", training_set, num_fits = 3, ttm = True)"
   ]
  },
  {
   "cell_type": "markdown",
   "metadata": {},
   "source": [
    "Now all the fits need to run. This can be done externally or run directly with the following command."
   ]
  },
  {
   "cell_type": "code",
   "execution_count": null,
   "metadata": {},
   "outputs": [],
   "source": [
    "potential_fitting.execute_fits(dim_settings, ttm = True)"
   ]
  },
  {
   "cell_type": "markdown",
   "metadata": {},
   "source": [
    "And finally we retrieve the best fit"
   ]
  },
  {
   "cell_type": "code",
   "execution_count": null,
   "metadata": {},
   "outputs": [],
   "source": [
    "potential_fitting.retrieve_best_fit(dim_settings, ttm = True)"
   ]
  },
  {
   "cell_type": "code",
   "execution_count": null,
   "metadata": {},
   "outputs": [],
   "source": [
    "potential_fitting.update_config_with_ttm(dim_settings, config)"
   ]
  },
  {
   "cell_type": "markdown",
   "metadata": {},
   "source": [
    "### 2.7. Add potential to MBX"
   ]
  },
  {
   "cell_type": "code",
   "execution_count": null,
   "metadata": {},
   "outputs": [],
   "source": [
    "potential_fitting.fitting.generate_software_files(dim_settings, config, mon_ids, polynomial_order, ttm_only = True, MBX_HOME = None, version = \"v1\")"
   ]
  },
  {
   "cell_type": "code",
   "execution_count": null,
   "metadata": {},
   "outputs": [],
   "source": []
  },
  {
   "cell_type": "code",
   "execution_count": null,
   "metadata": {},
   "outputs": [],
   "source": []
  },
  {
   "cell_type": "code",
   "execution_count": null,
   "metadata": {},
   "outputs": [],
   "source": []
  },
  {
   "cell_type": "markdown",
   "metadata": {},
   "source": [
    "## Chapter 3. Generate a CO2-H2O two-body MB-nrg PEF"
   ]
  },
  {
   "cell_type": "markdown",
   "metadata": {},
   "source": [
    "### 3.1. Definition of the variables"
   ]
  },
  {
   "cell_type": "markdown",
   "metadata": {},
   "source": [
    "This chapter is going to guide us through the process of obtaining a two-body MB-nrg PEF for a CO2-H2O dimer. Let's make a folder for this chapter."
   ]
  },
  {
   "cell_type": "code",
   "execution_count": null,
   "metadata": {},
   "outputs": [],
   "source": [
    "os.chdir(main_dir)\n",
    "os.system(\"mkdir -p chapter3_co2_h2o_2b_mbnrg\")\n",
    "os.chdir(\"chapter3_co2_h2o_2b_mbnrg\")"
   ]
  },
  {
   "cell_type": "markdown",
   "metadata": {},
   "source": [
    "#### Specifications of the QC calculations\n",
    "Next we are gonna define the method that we want to use to calculate energies, along with some other technical details."
   ]
  },
  {
   "cell_type": "code",
   "execution_count": null,
   "metadata": {},
   "outputs": [],
   "source": [
    "# The software that will be used to perform all the calculations\n",
    "code = \"qchem\"\n",
    "#code = \"psi4\"\n",
    "\n",
    "# The quantum chemistry method we want to use\n",
    "method = \"HF\"\n",
    "#method = \"MP2\"\n",
    "#method = \"wb97m-v\"\n",
    "\n",
    "# Basis set to use. Must be pre-defined in the software. Custom basis sets not implemented yet.\n",
    "basis = \"STO-3G\"\n",
    "\n",
    "# Use counter-poise correction or not.\n",
    "cp = False\n",
    "#cp = True\n",
    "\n",
    "# Number of threads and memory we would like to use\n",
    "num_threads = 2\n",
    "memory = \"4GB\"\n",
    "\n",
    "# This is the path where all the log files will be stored.\n",
    "log_path = \"logs\""
   ]
  },
  {
   "cell_type": "markdown",
   "metadata": {},
   "source": [
    "#### Monomer specifications\n",
    "This section will be used to define all the specifications that define the monomer. In this case there is only one monomer, but we still need to specify the properties as a list, since when more monomers are present, we need to specify them in a list."
   ]
  },
  {
   "cell_type": "code",
   "execution_count": null,
   "metadata": {},
   "outputs": [],
   "source": [
    "# Names that will identify the monomers. This is used for identification purposes only.\n",
    "names = [\"CO2\",\"H2O\"]\n",
    "\n",
    "# Number of atoms of each monomer\n",
    "number_of_atoms = [3,3]\n",
    "\n",
    "# Charge of each monomer\n",
    "charges = [0,0]\n",
    "\n",
    "# Spin multiplicity of each monomer\n",
    "spin = [1,1]\n",
    "\n",
    "# Use MB-pol for water (if applicable). \n",
    "# If 1 will use the Partridge-Shwenke PEF for water, with the position dependent charges.\n",
    "use_mbpol = [0,1]"
   ]
  },
  {
   "cell_type": "markdown",
   "metadata": {},
   "source": [
    "The symmetry tag requires a little bit of explanation. It contains the atom identity for the monomers. Some examples are `symmetry = [\"A1B4\"]` for methane monomer, `symmetry = [\"A1B2\",\"A1B2\"]` for a CO2 dimer, `symmetry = [\"A6B6\",\"C1D2\"]` for a benzene -- water dimer without lone pairs, and `symmetry = [\"A1B2Z2\",\"C1D2\"]` for a H2O -- SO2 dimer with lone pairs. The rules are the following:\n",
    "    * Symmetry names must be written in capital letters and start with A for the first atom of the first monomer. Any new atom type will be assigned the next letter of the alphabet.\n",
    "    * Exchangable atoms must have the same label, even if they are in different molecules.\n",
    "    * As for today, no more than 9 atoms of the same atom type is accepted.\n",
    "    * If there are virtual sites such as lone pairs that will play a role in the polynomials, they must be labels with letters X, Y, or Z.\n",
    "    * If two groups inside the same molecule have the same symmetry, they should be separated. As an example, DMSO should have a symmetry `symmetry = [\"A1B3_A1B3_C1D1\"]`. This allows permutation within the whole methyl groups, but not within the different carbons or hydrogens individually between the two methyl groups.\n",
    "    * The symmetry order MUST match the xyz order."
   ]
  },
  {
   "cell_type": "markdown",
   "metadata": {},
   "source": [
    "The SMILES tag also requires a little bit of explanation. One can get the smiles from open babel:\n",
    "`obabel -ixyz input.xyz -osmiles -O smiles.txt`\n",
    "The order of the atoms in the SMILES string must also match the XYZ order."
   ]
  },
  {
   "cell_type": "code",
   "execution_count": null,
   "metadata": {},
   "outputs": [],
   "source": [
    "# Symmetry of the molecule\n",
    "symmetry = [\"A1B2\", \"C1D2X2\"]\n",
    "\n",
    "# SMILES string\n",
    "smiles = [\"C(O)O\", \"O(H)H\"]"
   ]
  },
  {
   "cell_type": "markdown",
   "metadata": {},
   "source": [
    "#### Creating files needed by the code"
   ]
  },
  {
   "cell_type": "markdown",
   "metadata": {},
   "source": [
    "As for 08/12/2019, the `settings` files are still needed. This example is only for a CO2 dimer, so only one settings file is needed for the monomers, since they are the same, and one for the dimer."
   ]
  },
  {
   "cell_type": "code",
   "execution_count": null,
   "metadata": {},
   "outputs": [],
   "source": [
    "# Settings for monomer\n",
    "mon1_settings = \"monomer1_settings.ini\"\n",
    "mon2_settings = \"monomer2_settings.ini\"\n",
    "\n",
    "my_settings_file_mon1 = \"\"\"\n",
    "[files]\n",
    "# Local path directory to write log files in\n",
    "log_path = \"\"\" + log_path + \"\"\"\n",
    "\n",
    "[config_generator]\n",
    "# what library to use for geometry optimization and normal mode generation\n",
    "code = \"\"\" + code + \"\"\"\n",
    "# use geometric or linear progression for T and A in config generation, exactly 1 must be True\n",
    "geometric = False\n",
    "linear = False\n",
    "\n",
    "[energy_calculator]\n",
    "# what library to use for energy calculations\n",
    "code = \"\"\" + code + \"\"\"\n",
    "\n",
    "[psi4]\n",
    "# memory to use when doing a psi4 calculation\n",
    "memory = \"\"\" + memory + \"\"\"\n",
    "# number of threads to use when executing a psi4 calculation\n",
    "num_threads = \"\"\" + str(num_threads) + \"\"\"\n",
    "\n",
    "[qchem]\n",
    "# number of threads to use when executing a qchem calculation\n",
    "num_threads = \"\"\" + str(num_threads) + \"\"\"\n",
    "\n",
    "[molecule]\n",
    "# name of fragments, seperated by commas\n",
    "names = \"\"\" + names[0] + \"\"\"\n",
    "# number of atoms in each fragment, seperated by commas\n",
    "fragments = \"\"\" + str(number_of_atoms[0]) + \"\"\"\n",
    "# charge of each fragment, seperated by commas\n",
    "charges = \"\"\" + str(charges[0]) + \"\"\"\n",
    "# spin multiplicity of each fragment, seperated by commas\n",
    "spins = \"\"\" + str(spin[0]) + \"\"\"\n",
    "# tag when putting geometries into database\n",
    "tag = none\n",
    "# Use or not MB-pol\n",
    "use_mbpol = \"\"\" + str(use_mbpol[0]) + \"\"\"\n",
    "# symmetry of each fragment, seperated by commas\n",
    "symmetry = \"\"\" + symmetry[0] + \"\"\"\n",
    "SMILES = \"\"\" + smiles[0] + \"\"\"\n",
    "\"\"\"\n",
    "\n",
    "my_settings_file_mon2 = \"\"\"\n",
    "[files]\n",
    "# Local path directory to write log files in\n",
    "log_path = \"\"\" + log_path + \"\"\"\n",
    "\n",
    "[config_generator]\n",
    "# what library to use for geometry optimization and normal mode generation\n",
    "code = \"\"\" + code + \"\"\"\n",
    "# use geometric or linear progression for T and A in config generation, exactly 1 must be True\n",
    "geometric = False\n",
    "linear = False\n",
    "\n",
    "[energy_calculator]\n",
    "# what library to use for energy calculations\n",
    "code = \"\"\" + code + \"\"\"\n",
    "\n",
    "[psi4]\n",
    "# memory to use when doing a psi4 calculation\n",
    "memory = \"\"\" + memory + \"\"\"\n",
    "# number of threads to use when executing a psi4 calculation\n",
    "num_threads = \"\"\" + str(num_threads) + \"\"\"\n",
    "\n",
    "[qchem]\n",
    "# number of threads to use when executing a qchem calculation\n",
    "num_threads = \"\"\" + str(num_threads) + \"\"\"\n",
    "\n",
    "[molecule]\n",
    "# name of fragments, seperated by commas\n",
    "names = \"\"\" + names[1] + \"\"\"\n",
    "# number of atoms in each fragment, seperated by commas\n",
    "fragments = \"\"\" + str(number_of_atoms[1]) + \"\"\"\n",
    "# charge of each fragment, seperated by commas\n",
    "charges = \"\"\" + str(charges[1]) + \"\"\"\n",
    "# spin multiplicity of each fragment, seperated by commas\n",
    "spins = \"\"\" + str(spin[1]) + \"\"\"\n",
    "# tag when putting geometries into database\n",
    "tag = none\n",
    "# Use or not MB-pol\n",
    "use_mbpol = \"\"\" + str(use_mbpol[1]) + \"\"\"\n",
    "# symmetry of each fragment, seperated by commas\n",
    "symmetry = \"\"\" + symmetry[1] + \"\"\"\n",
    "SMILES = \"\"\" + smiles[1] + \"\"\"\n",
    "\"\"\""
   ]
  },
  {
   "cell_type": "code",
   "execution_count": null,
   "metadata": {},
   "outputs": [],
   "source": [
    "# Settings for dimer\n",
    "dim_settings = \"dimer_settings.ini\"\n",
    "\n",
    "my_settings_file_dim = \"\"\"\n",
    "[files]\n",
    "# Local path directory to write log files in\n",
    "log_path = \"\"\" + log_path + \"\"\"\n",
    "\n",
    "[config_generator]\n",
    "# what library to use for geometry optimization and normal mode generation\n",
    "code = \"\"\" + code + \"\"\"\n",
    "# use geometric or linear progression for T and A in config generation, exactly 1 must be True\n",
    "geometric = False\n",
    "linear = False\n",
    "\n",
    "[energy_calculator]\n",
    "# what library to use for energy calculations\n",
    "code = \"\"\" + code + \"\"\"\n",
    "\n",
    "[psi4]\n",
    "# memory to use when doing a psi4 calculation\n",
    "memory = \"\"\" + memory + \"\"\"\n",
    "# number of threads to use when executing a psi4 calculation\n",
    "num_threads = \"\"\" + str(num_threads) + \"\"\"\n",
    "\n",
    "[qchem]\n",
    "# number of threads to use when executing a qchem calculation\n",
    "num_threads = \"\"\" + str(num_threads) + \"\"\"\n",
    "\n",
    "[molecule]\n",
    "# name of fragments, seperated by commas\n",
    "names = \"\"\" + names[0] + \",\" + names[1] + \"\"\"\n",
    "# number of atoms in each fragment, seperated by commas\n",
    "fragments = \"\"\" + str(number_of_atoms[0]) + \"\"\",\"\"\" + str(number_of_atoms[1]) + \"\"\"\n",
    "# charge of each fragment, seperated by commas\n",
    "charges = \"\"\" + str(charges[0]) + \"\"\",\"\"\" + str(charges[1]) + \"\"\"\n",
    "# spin multiplicity of each fragment, seperated by commas\n",
    "spins = \"\"\" + str(spin[0]) + \"\"\",\"\"\" + str(spin[1]) + \"\"\"\n",
    "# tag when putting geometries into database\n",
    "tag = none\n",
    "# Use or not MB-pol\n",
    "use_mbpol = \"\"\" + str(use_mbpol[0]) + \"\"\",\"\"\" + str(use_mbpol[1]) + \"\"\"\n",
    "# symmetry of each fragment, seperated by commas\n",
    "symmetry = \"\"\" + symmetry[0] + \"\"\",\"\"\" + symmetry[1] + \"\"\"\n",
    "SMILES = \"\"\" + smiles[0] + \"\"\",\"\"\" + smiles[1] + \"\"\"\n",
    "\"\"\""
   ]
  },
  {
   "cell_type": "code",
   "execution_count": null,
   "metadata": {},
   "outputs": [],
   "source": [
    "# Write the files:\n",
    "ff = open(mon1_settings,'w')\n",
    "ff.write(my_settings_file_mon1)\n",
    "ff.close()\n",
    "\n",
    "ff = open(mon2_settings,'w')\n",
    "ff.write(my_settings_file_mon2)\n",
    "ff.close()\n",
    "\n",
    "ff = open(dim_settings,'w')\n",
    "ff.write(my_settings_file_dim)\n",
    "ff.close()"
   ]
  },
  {
   "cell_type": "markdown",
   "metadata": {},
   "source": [
    "Unoptimized geometries of the two monomers are inputed as an [XYZ formatted file](https://en.wikipedia.org/wiki/XYZ_file_format). "
   ]
  },
  {
   "cell_type": "code",
   "execution_count": null,
   "metadata": {},
   "outputs": [],
   "source": [
    "# XYZ file that contains the unoptimized geommetry of the monomer\n",
    "unopt_mon1 = \"monomer1.xyz\"\n",
    "\n",
    "my_unopt_monomer1 = \"\"\"3\n",
    "unoptimized co2\n",
    "C   0   0   0\n",
    "O   1.3   0   0\n",
    "O   -1.3  0   0\n",
    "\"\"\"\n",
    "\n",
    "unopt_mon2 = \"monomer2.xyz\"\n",
    "\n",
    "my_unopt_monomer2 = \"\"\"3\n",
    "unoptimized h2o\n",
    "O   0   0   0\n",
    "H   0.8   0.8   0\n",
    "H   0.8  0.2   0\n",
    "\"\"\""
   ]
  },
  {
   "cell_type": "code",
   "execution_count": null,
   "metadata": {},
   "outputs": [],
   "source": [
    "# Write the file:\n",
    "ff = open(unopt_mon1,'w')\n",
    "ff.write(my_unopt_monomer1)\n",
    "ff.close()\n",
    "\n",
    "ff = open(unopt_mon2,'w')\n",
    "ff.write(my_unopt_monomer2)\n",
    "ff.close()"
   ]
  },
  {
   "cell_type": "markdown",
   "metadata": {},
   "source": [
    "#### Defining files that will be written by the code"
   ]
  },
  {
   "cell_type": "code",
   "execution_count": null,
   "metadata": {},
   "outputs": [],
   "source": [
    "# XYZ file that contains the optimized geommetry of the monomer\n",
    "opt_mon1 = \"monomer1_opt.xyz\"\n",
    "opt_mon2 = \"monomer2_opt.xyz\"\n",
    "\n",
    "# File where normal modes of monomer 1 will be outputed\n",
    "normal_modes_mon1 = \"monomer1_normal_modes.dat\"\n",
    "normal_modes_mon2 = \"monomer2_normal_modes.dat\"\n",
    "\n",
    "# Same for dimer\n",
    "unopt_dim = \"dimer.xyz\"\n",
    "opt_dim = \"dimer_opt.xyz\"\n",
    "normal_modes_dim = \"dimer_normal_modes.dat\""
   ]
  },
  {
   "cell_type": "markdown",
   "metadata": {},
   "source": [
    "Training and test set files. The `training configs` and `test_configs` files will contain the configurations generated by the training set generation functions. Only the geometry (i.e., the coordinates of all atoms for each configuration) will be stored in those files. Later on, we will calculate the energies for each of these configurations, and create the files in the format that will be inputed to the fitting code. These new files are going to be defined in `training_set` and `test_set`. The coordinates in these files will be the same as in the initial `training configs` and `test_configs`, but now the comment line will be filled with the energies needed by the fitting code."
   ]
  },
  {
   "cell_type": "code",
   "execution_count": null,
   "metadata": {},
   "outputs": [],
   "source": [
    "# XYZ file with the configurations of the training set\n",
    "rigid_training_configs = \"rigid_training_configs.xyz\" \n",
    "flex_training_configs = \"flex_training_configs.xyz\"\n",
    "normal_mode_training_configs = \"normal_mode_training_configs\"\n",
    "\n",
    "ttm_training_configs = \"ttm_training_configs.xyz\"\n",
    "\n",
    "# XYZ file with the configurations of the test set\n",
    "rigid_test_configs = \"rigid_test_configs.xyz\" \n",
    "flex_test_configs = \"flex_test_configs.xyz\"\n",
    "normal_mode_test_configs = \"normal_mode_test_configs\"\n",
    "\n",
    "ttm_test_configs = \"ttm_test_configs.xyz\"\n",
    "\n",
    "# Distorted monomer configurations for the flexible training set\n",
    "mon1_distorted = \"mon1_distorted.xyz\"\n",
    "mon2_distorted = \"mon2_distorted.xyz\"\n",
    "\n",
    "# And the screened values\n",
    "mon1_screened = \"mon1_screened.xyz\"\n",
    "mon2_screened = \"mon2_screened.xyz\"\n",
    "\n",
    "# XYZ file with the training set that the codes need to perform the fit\n",
    "# Configurations are the same as training_configs but this file\n",
    "# has the energies in the comment line\n",
    "training_set = \"training_set.xyz\"\n",
    "ttm_training_set = \"ttm_training_set.xyz\"\n",
    "\n",
    "# XYZ file with the test set that the codes need to perform the fit\n",
    "# Configurations are the same as test_configs but this file\n",
    "# has the energies in the comment line \n",
    "test_set = \"test_set.xyz\"\n",
    "ttm_test_set = \"ttm_test_set.xyz\"\n"
   ]
  },
  {
   "cell_type": "markdown",
   "metadata": {},
   "source": [
    "The information about the training, test, energies... is stored in an `postgreSQL` database. In principle there is no need to interact with this database, since everything is automatized, but you might want to retrieve some information at some point.\n",
    "\n",
    "The database_config `.ini` file should contain one section `[database]` with 5 properties:\n",
    "* `host`: The address of the server where the database is hosted.\n",
    "* `port`: The port used to connect to the database.\n",
    "* `database`: The name of the database.\n",
    "* `username`: Your username to connect to the database.\n",
    "* `password`: Your password to connect to the database.\n",
    "\n",
    "For now use these parameters:\n",
    "\n",
    "* `host`: piggy.pl.ucsd.edu\n",
    "* `port`: 5432\n",
    "* `database`: potential_fitting\n",
    "* `username`: potential_fitting\n",
    "* `password`: Please contact Ethan or Kaushik for the password.\n",
    "\n",
    "The username potential_fitting was established as a general username that anyone who only needs basic access to the database can use. Alternatively, each user has their own username and password you can use. For most of you, this should be the same as your ucsd email prefix and password.\n",
    "\n",
    "The file database.ini does not exist in the git repo, so you will have to create a file and update the variable below to be its filepath. For some reason, python doesn't like it when you use `~` to specify your home directory, so provide a relateive or absolute path instead. It is recommended that you create the file in your home directory.\n",
    "\n",
    "<h3 style=\"color:red;\">Make sure only you have read access to this file using the chmod command or else anyone on our fileserver will be able to see your password and <b>PLEASE DO NOT ACCIDENTALLY COMMIT A FILE CONTAINING YOUR PASSWORD VIA GIT!</b></h3>\n",
    "\n",
    "cleint_name is used in the database to track what machines performed what calculations. Please use something that indicates where you are running the calculations."
   ]
  },
  {
   "cell_type": "code",
   "execution_count": null,
   "metadata": {},
   "outputs": [],
   "source": [
    "# PostgreSQL database that stores structures and energies\n",
    "database_config = \"local.ini\"\n",
    "client_name = \"pikachu\""
   ]
  },
  {
   "cell_type": "code",
   "execution_count": null,
   "metadata": {},
   "outputs": [],
   "source": [
    "my_database_settings = \"\"\"[database]\n",
    "host = piggy.pl.ucsd.edu\n",
    "port = 5432\n",
    "database = potential_fitting\n",
    "username = potential_fitting\n",
    "password = 9t8ARDuN2Wy49VtMOrcJyHtOzyKhkiId\n",
    "\"\"\"\n",
    "\n",
    "# Write the file. Remember to update the username and password!\n",
    "ff = open(database_config,'w')\n",
    "ff.write(my_database_settings)\n",
    "ff.close()"
   ]
  },
  {
   "cell_type": "markdown",
   "metadata": {},
   "source": [
    "In this chapter we are not going to use polynomials. However, the code that generates the MB-nrg fitting code is also the same as the one that generates the TTM-nrg one. Thus, we will need to generate polynomials anyways."
   ]
  },
  {
   "cell_type": "code",
   "execution_count": null,
   "metadata": {},
   "outputs": [],
   "source": [
    "# Monomers 1 and 2 separated by '_'\n",
    "molecule_in = \"_\".join(symmetry)\n",
    "\n",
    "# Configuration file that contains all the monomer \n",
    "# and dimer information. Will be used to generate the 2B codes.\n",
    "config = \"config.ini\"\n",
    "\n",
    "# Input file for the polynomial generation\n",
    "poly_in = \"poly.in\"\n",
    "\n",
    "# Directory where the polynomials will be generated\n",
    "poly_directory = \"polynomial_generation\"\n",
    "\n",
    "# Degree of the polynomials\n",
    "polynomial_order = 2"
   ]
  },
  {
   "cell_type": "markdown",
   "metadata": {},
   "source": [
    "#### Directories for the different sections"
   ]
  },
  {
   "cell_type": "markdown",
   "metadata": {},
   "source": [
    "These variables specify the directories where the fitting code for each type of PEF is going to be created.\n",
    "- `ttmnrg_directory` will contain the code that fits TTM-nrg PEFs for the system specified."
   ]
  },
  {
   "cell_type": "code",
   "execution_count": null,
   "metadata": {},
   "outputs": [],
   "source": [
    "# Directory where ttm-nrg fitting code will be stored\n",
    "ttmnrg_directory = \"ttm-nrg_fitting_code\"\n",
    "\n",
    "# Directory where mb-nrg fitting code will be stored\n",
    "mbnrg_directory = \"mb-nrg_fitting_code\""
   ]
  },
  {
   "cell_type": "markdown",
   "metadata": {},
   "source": [
    "#### Multiple variables that will be used later"
   ]
  },
  {
   "cell_type": "code",
   "execution_count": null,
   "metadata": {},
   "outputs": [],
   "source": [
    "# Number of configurations in the 2b training_set\n",
    "num_training_configs = 2500\n",
    "num_ttm_training_configs = 250\n",
    "############################\n",
    "num_rigid_training_configs = int(0.35*num_training_configs)\n",
    "num_flex_training_configs = int(0.5*num_training_configs)\n",
    "num_nm_training_configs = int(0.15*num_training_configs)\n",
    "\n",
    "# Number of configurations in the 2b test set\n",
    "num_test_configs = int(0.2*num_training_configs)\n",
    "num_ttm_test_configs = int(0.2*num_ttm_training_configs)\n",
    "\n",
    "num_rigid_test_configs = int(0.35*num_test_configs)\n",
    "num_flex_test_configs = int(0.5*num_test_configs)\n",
    "num_nm_test_configs = int(0.15*num_test_configs)\n",
    "############################\n",
    "\n",
    "# Number of distorted configurations for monomer 1 and monomer 2\n",
    "num_mon1_distorted = 100\n",
    "num_mon2_distorted = 100\n",
    "\n",
    "# Maximum energy allowed for distorted monomers (in kcal/mol)\n",
    "mon_emax = 30.0\n",
    "\n",
    "# Maximum binding energy allowed\n",
    "bind_emax = 500.0\n",
    "\n",
    "# Minimum and maximum distance between the two monomers\n",
    "min_d_2b = 1.0\n",
    "max_d_2b = 9.0\n",
    "\n",
    "# Minimum fraction of the VdW distance that is allowed between any atoms that belong to different monomers\n",
    "min_inter_d = 0.5\n",
    "\n",
    "# Seeds to be used in the configuration generation to ensure different\n",
    "# configurations for training and test\n",
    "seed_training = 12345\n",
    "seed_test = 54321\n",
    "\n",
    "# IDs of the monomers (should be consistent with the 1B id for each)\n",
    "mon_ids = [\"co2\",\"h2o\"]\n",
    "\n",
    "# Number of TTM-nrg fits to perform\n",
    "num_ttm_fits = 5\n",
    "num_mb_fits = 5"
   ]
  },
  {
   "cell_type": "markdown",
   "metadata": {},
   "source": [
    "### 3.2. Generate polynomials"
   ]
  },
  {
   "cell_type": "markdown",
   "metadata": {},
   "source": [
    "We first generate the polynomials to see how many parameters we have in them. A recommended ratio is to have twenty times the number of parameters configurations in the training set."
   ]
  },
  {
   "cell_type": "markdown",
   "metadata": {},
   "source": [
    "#### 3.2.1. Generate polynomial input file"
   ]
  },
  {
   "cell_type": "markdown",
   "metadata": {},
   "source": [
    "This call generates a polynomial input file based on the symmetry of the dimer specified. \n",
    "\n",
    "*Note. Write some more info and doc for the input. Filters by default, new filters that can be added...*\n",
    "<p style=\"color:red;\">Note: the database filepath argument has been exchanged for the database_config in generate_poly_input_from_database </p>"
   ]
  },
  {
   "cell_type": "code",
   "execution_count": null,
   "metadata": {
    "scrolled": true
   },
   "outputs": [],
   "source": [
    "potential_fitting.generate_poly_input(dim_settings, molecule_in, poly_in)"
   ]
  },
  {
   "cell_type": "markdown",
   "metadata": {},
   "source": [
    "#### 3.2.2. Generate maple input files"
   ]
  },
  {
   "cell_type": "markdown",
   "metadata": {},
   "source": [
    "Generate polynomials of the degree specified at the beginning, based on the polynomial input file that we have generated in the previous step."
   ]
  },
  {
   "cell_type": "code",
   "execution_count": null,
   "metadata": {},
   "outputs": [],
   "source": [
    "potential_fitting.generate_polynomials(dim_settings, poly_in, polynomial_order, poly_directory)"
   ]
  },
  {
   "cell_type": "markdown",
   "metadata": {},
   "source": [
    "#### 3.2.3. Optimize the polynomial evaluation"
   ]
  },
  {
   "cell_type": "markdown",
   "metadata": {},
   "source": [
    "The maple input files define the non optimized polynomials. The polynomials can sometimes be large, and **Maple** is able to optimize them to perform the minimum number of floating point operations (FLOPs). It will output three different files. One with non-optimized polynomials, one with optimized polynomials with gradient evaluation, and one without gradient evaluation."
   ]
  },
  {
   "cell_type": "code",
   "execution_count": null,
   "metadata": {},
   "outputs": [],
   "source": [
    "potential_fitting.execute_maple(dim_settings, poly_directory)"
   ]
  },
  {
   "cell_type": "markdown",
   "metadata": {},
   "source": [
    "### 3.3. Geometry optimization and normal mode calculation"
   ]
  },
  {
   "cell_type": "markdown",
   "metadata": {},
   "source": [
    "#### 3.3.1. Monomers"
   ]
  },
  {
   "cell_type": "markdown",
   "metadata": {},
   "source": [
    "Performs a geometry optimization of the monomer at the level of theory specified in `monomer_settings.ini`. **Before running these commands** please make sure that the specifications in the sections `[config_generator]` and `[molecule]` of the corresponding `settings.ini` file are correct and consistent."
   ]
  },
  {
   "cell_type": "code",
   "execution_count": null,
   "metadata": {},
   "outputs": [],
   "source": [
    "# Optimize monomer\n",
    "potential_fitting.optimize_geometry(mon1_settings, unopt_mon1, opt_mon1, method, basis)"
   ]
  },
  {
   "cell_type": "code",
   "execution_count": null,
   "metadata": {},
   "outputs": [],
   "source": [
    "# Get its normal modes\n",
    "potential_fitting.generate_normal_modes(mon1_settings, opt_mon1,normal_modes_mon1, method, basis)"
   ]
  },
  {
   "cell_type": "code",
   "execution_count": null,
   "metadata": {},
   "outputs": [],
   "source": [
    "# Optimize monomer\n",
    "potential_fitting.optimize_geometry(mon2_settings, unopt_mon2, opt_mon2, method, basis)"
   ]
  },
  {
   "cell_type": "code",
   "execution_count": null,
   "metadata": {},
   "outputs": [],
   "source": [
    "# Get its normal modes\n",
    "potential_fitting.generate_normal_modes(mon2_settings, opt_mon2,normal_modes_mon2, method, basis)"
   ]
  },
  {
   "cell_type": "markdown",
   "metadata": {},
   "source": [
    "#### 3.3.2. Dimer"
   ]
  },
  {
   "cell_type": "markdown",
   "metadata": {},
   "source": [
    "Now the same for the dimer."
   ]
  },
  {
   "cell_type": "code",
   "execution_count": null,
   "metadata": {
    "scrolled": true
   },
   "outputs": [],
   "source": [
    "# Generate a dimer\n",
    "potential_fitting.generate_2b_configurations(dim_settings, opt_mon1, opt_mon2, 1, unopt_dim, 2, 5, min_inter_d, seed_training)"
   ]
  },
  {
   "cell_type": "code",
   "execution_count": null,
   "metadata": {
    "scrolled": true
   },
   "outputs": [],
   "source": [
    "# Optimize the dimer\n",
    "potential_fitting.optimize_geometry(dim_settings, unopt_dim, opt_dim, method, basis)"
   ]
  },
  {
   "cell_type": "code",
   "execution_count": null,
   "metadata": {},
   "outputs": [],
   "source": [
    "# Get its normal modes\n",
    "potential_fitting.generate_normal_modes(dim_settings, opt_dim,normal_modes_dim, method, basis)"
   ]
  },
  {
   "cell_type": "markdown",
   "metadata": {},
   "source": [
    "### 3.4. Obtain charges, polarizabilities, and C6"
   ]
  },
  {
   "cell_type": "markdown",
   "metadata": {},
   "source": [
    "In order to perform the fit, charges, polarizabilities, C6, and other properties of the dimer have to be calculated. This is done, for now, with the software **QChem**. This instruction will compute these properties for you. The predefined basis set and method is wb97m-v/avtz. This step can take a long time if the molecule is large.\n",
    "\n",
    "After the calculation is completed, all the information needed for the fits (both MB-nrg and TTM-nrg) will be added in the configuration file specified at the beggining."
   ]
  },
  {
   "cell_type": "code",
   "execution_count": null,
   "metadata": {
    "scrolled": true
   },
   "outputs": [],
   "source": [
    "potential_fitting.generate_fitting_config_file_new(dim_settings, config, geo_paths = [opt_mon1, opt_mon2])"
   ]
  },
  {
   "cell_type": "markdown",
   "metadata": {},
   "source": [
    "### 3.5. TTM-nrg training and test set"
   ]
  },
  {
   "cell_type": "markdown",
   "metadata": {},
   "source": [
    "In order to run an MB-nrg fit, we first need to do a TTM-nrg fit to obtain the classical part. The MB-nrg fit will use the dispersion from the TTM-nrg, so we first need to obtain it."
   ]
  },
  {
   "cell_type": "markdown",
   "metadata": {},
   "source": [
    "#### 3.5.1. Training and test generation"
   ]
  },
  {
   "cell_type": "code",
   "execution_count": null,
   "metadata": {},
   "outputs": [],
   "source": [
    "# Training Set\n",
    "potential_fitting.generate_2b_configurations(dim_settings, opt_mon1, opt_mon2, num_ttm_training_configs, ttm_training_configs, min_d_2b, max_d_2b, min_inter_d, seed_training + 100)"
   ]
  },
  {
   "cell_type": "code",
   "execution_count": null,
   "metadata": {},
   "outputs": [],
   "source": [
    "# Test Set\n",
    "potential_fitting.generate_2b_configurations(dim_settings, opt_mon1, opt_mon2, num_ttm_test_configs, ttm_test_configs, min_d_2b, max_d_2b, min_inter_d, seed_test + 100)"
   ]
  },
  {
   "cell_type": "markdown",
   "metadata": {},
   "source": [
    "#### 3.5.2. Add configurations to the database"
   ]
  },
  {
   "cell_type": "code",
   "execution_count": null,
   "metadata": {},
   "outputs": [],
   "source": [
    "# Training set\n",
    "potential_fitting.init_database(dim_settings, database_config, ttm_training_configs, method, basis, cp, \"ch3-ttm-training\", optimized = False)"
   ]
  },
  {
   "cell_type": "code",
   "execution_count": null,
   "metadata": {},
   "outputs": [],
   "source": [
    "# Test Set\n",
    "potential_fitting.init_database(dim_settings, database_config, ttm_test_configs, method, basis, cp, \"ch3-ttm-test\", optimized = False)"
   ]
  },
  {
   "cell_type": "code",
   "execution_count": null,
   "metadata": {},
   "outputs": [],
   "source": [
    "# Add monomer optimized geommetry to database (needed for binding energy)\n",
    "potential_fitting.init_database(mon1_settings, database_config, opt_mon1, method, basis, cp, \"ch3-ttm-training\", optimized = True)\n",
    "potential_fitting.init_database(mon1_settings, database_config, opt_mon1, method, basis, cp, \"ch3-ttm-test\", optimized = True)\n",
    "\n",
    "potential_fitting.init_database(mon2_settings, database_config, opt_mon2, method, basis, cp, \"ch3-ttm-training\", optimized = True)\n",
    "potential_fitting.init_database(mon2_settings, database_config, opt_mon2, method, basis, cp, \"ch3-ttm-test\", optimized = True)"
   ]
  },
  {
   "cell_type": "markdown",
   "metadata": {},
   "source": [
    "#### 3.5.3. Calculate energies"
   ]
  },
  {
   "cell_type": "code",
   "execution_count": null,
   "metadata": {},
   "outputs": [],
   "source": [
    "potential_fitting.fill_database(dim_settings, database_config, client_name, \"ch3-ttm-training\", \"ch3-ttm-test\", calculation_count = None)"
   ]
  },
  {
   "cell_type": "markdown",
   "metadata": {},
   "source": [
    "#### 3.5.4. Generate TTM-nrg training and test set files"
   ]
  },
  {
   "cell_type": "code",
   "execution_count": null,
   "metadata": {
    "scrolled": false
   },
   "outputs": [],
   "source": [
    "# Obtain training set\n",
    "potential_fitting.generate_training_set(dim_settings, database_config, ttm_training_set, method, basis, cp, \"ch3-ttm-training\", e_bind_max = bind_emax, e_mon_max = mon_emax)"
   ]
  },
  {
   "cell_type": "code",
   "execution_count": null,
   "metadata": {},
   "outputs": [],
   "source": [
    "# Obtain test set\n",
    "potential_fitting.generate_training_set(dim_settings, database_config, ttm_test_set, method, basis, cp, \"ch3-ttm-test\", e_bind_max = bind_emax, e_mon_max = mon_emax)"
   ]
  },
  {
   "cell_type": "markdown",
   "metadata": {},
   "source": [
    "### 3.6.TTM-nrg fit"
   ]
  },
  {
   "cell_type": "markdown",
   "metadata": {},
   "source": [
    "#### 3.6.1. Obtain and compile the fitting code"
   ]
  },
  {
   "cell_type": "markdown",
   "metadata": {},
   "source": [
    "Generate MB-nrg / TTM-nrg combined fitting code"
   ]
  },
  {
   "cell_type": "code",
   "execution_count": null,
   "metadata": {
    "scrolled": false
   },
   "outputs": [],
   "source": [
    "potential_fitting.generate_mbnrg_fitting_code(dim_settings, config, poly_in, poly_directory, polynomial_order, ttmnrg_directory)"
   ]
  },
  {
   "cell_type": "markdown",
   "metadata": {},
   "source": [
    "And we compile it."
   ]
  },
  {
   "cell_type": "code",
   "execution_count": null,
   "metadata": {
    "scrolled": true
   },
   "outputs": [],
   "source": [
    "potential_fitting.compile_fit_code(dim_settings, ttmnrg_directory)"
   ]
  },
  {
   "cell_type": "markdown",
   "metadata": {},
   "source": [
    "#### 3.6.2. Perform the fit"
   ]
  },
  {
   "cell_type": "markdown",
   "metadata": {},
   "source": [
    "This command will prepare as many folders as fits one needs to run with a bash script that will execute the fit and save the output. If there are 5 fit folders and we run 2 more, two new fit folders will be created."
   ]
  },
  {
   "cell_type": "code",
   "execution_count": null,
   "metadata": {},
   "outputs": [],
   "source": [
    "potential_fitting.prepare_fits(dim_settings, ttmnrg_directory + \"/fit-2b-ttm\", ttm_training_set, num_fits = num_ttm_fits, ttm = True)"
   ]
  },
  {
   "cell_type": "markdown",
   "metadata": {},
   "source": [
    "Now all the fits need to run. This can be done externally or run directly with the following command."
   ]
  },
  {
   "cell_type": "code",
   "execution_count": null,
   "metadata": {},
   "outputs": [],
   "source": [
    "potential_fitting.execute_fits(dim_settings, ttm = True)"
   ]
  },
  {
   "cell_type": "markdown",
   "metadata": {},
   "source": [
    "And finally we retrieve the best fit"
   ]
  },
  {
   "cell_type": "code",
   "execution_count": null,
   "metadata": {},
   "outputs": [],
   "source": [
    "potential_fitting.retrieve_best_fit(dim_settings, ttm = True)"
   ]
  },
  {
   "cell_type": "markdown",
   "metadata": {},
   "source": [
    "Now we can update the config file so MB-nrg can use the TTM-nrg dispersion"
   ]
  },
  {
   "cell_type": "code",
   "execution_count": null,
   "metadata": {},
   "outputs": [],
   "source": [
    "potential_fitting.update_config_with_ttm(dim_settings, config)"
   ]
  },
  {
   "cell_type": "markdown",
   "metadata": {},
   "source": [
    "### 3.7. MB-nrg Training and Test Set generation"
   ]
  },
  {
   "cell_type": "markdown",
   "metadata": {},
   "source": [
    "#### 3.7.1. Rigid Training Set"
   ]
  },
  {
   "cell_type": "markdown",
   "metadata": {},
   "source": [
    "##### Generate configurations"
   ]
  },
  {
   "cell_type": "code",
   "execution_count": null,
   "metadata": {},
   "outputs": [],
   "source": [
    "# Training Set\n",
    "potential_fitting.generate_2b_configurations(dim_settings, opt_mon1, opt_mon2, num_rigid_training_configs, rigid_training_configs, min_d_2b, max_d_2b, min_inter_d, seed_training)"
   ]
  },
  {
   "cell_type": "code",
   "execution_count": null,
   "metadata": {},
   "outputs": [],
   "source": [
    "# Test Set\n",
    "potential_fitting.generate_2b_configurations(dim_settings, opt_mon1, opt_mon2, num_rigid_test_configs, rigid_test_configs, min_d_2b, max_d_2b, min_inter_d, seed_test)"
   ]
  },
  {
   "cell_type": "markdown",
   "metadata": {},
   "source": [
    "##### Add configurations to the database"
   ]
  },
  {
   "cell_type": "code",
   "execution_count": null,
   "metadata": {},
   "outputs": [],
   "source": [
    "# Training set\n",
    "potential_fitting.init_database(dim_settings, database_config, rigid_training_configs, method, basis, cp, \"ch3-training\", optimized = False)"
   ]
  },
  {
   "cell_type": "code",
   "execution_count": null,
   "metadata": {},
   "outputs": [],
   "source": [
    "# Test Set\n",
    "potential_fitting.init_database(dim_settings, database_config, rigid_test_configs, method, basis, cp, \"ch3-test\", optimized = False)"
   ]
  },
  {
   "cell_type": "code",
   "execution_count": null,
   "metadata": {},
   "outputs": [],
   "source": [
    "# Add monomer optimized geommetry to database (needed for binding energy)\n",
    "potential_fitting.init_database(mon1_settings, database_config, opt_mon1, method, basis, cp, \"ch3-training\", optimized = True)\n",
    "potential_fitting.init_database(mon1_settings, database_config, opt_mon1, method, basis, cp, \"ch3-test\", optimized = True)\n",
    "\n",
    "potential_fitting.init_database(mon2_settings, database_config, opt_mon2, method, basis, cp, \"ch3-training\", optimized = True)\n",
    "potential_fitting.init_database(mon2_settings, database_config, opt_mon2, method, basis, cp, \"ch3-test\", optimized = True)"
   ]
  },
  {
   "cell_type": "markdown",
   "metadata": {},
   "source": [
    "#### 3.7.2. Flexible Configurations"
   ]
  },
  {
   "cell_type": "markdown",
   "metadata": {},
   "source": [
    "##### Generate distorted monomer configurations"
   ]
  },
  {
   "cell_type": "code",
   "execution_count": null,
   "metadata": {},
   "outputs": [],
   "source": [
    "# Generate the normal mode configurations for the monomers:\n",
    "potential_fitting.generate_normal_mode_configurations(mon1_settings, opt_mon1, normal_modes_mon1, mon1_distorted, num_mon1_distorted, seed_training + 1)\n",
    "potential_fitting.generate_normal_mode_configurations(mon2_settings, opt_mon2, normal_modes_mon2, mon2_distorted, num_mon2_distorted, seed_training + 2)"
   ]
  },
  {
   "cell_type": "markdown",
   "metadata": {},
   "source": [
    "##### Add them to the database along with the optimized geometries"
   ]
  },
  {
   "cell_type": "code",
   "execution_count": null,
   "metadata": {},
   "outputs": [],
   "source": [
    "# Add configurations to database\n",
    "potential_fitting.init_database(mon1_settings, database_config, mon1_distorted, method, basis, cp, \"ch3-mon1\", optimized = False)\n",
    "potential_fitting.init_database(mon2_settings, database_config, mon2_distorted, method, basis, cp, \"ch3-mon2\", optimized = False)"
   ]
  },
  {
   "cell_type": "code",
   "execution_count": null,
   "metadata": {},
   "outputs": [],
   "source": [
    "# Now add optimized geometries\n",
    "potential_fitting.init_database(mon1_settings, database_config, opt_mon1, method, basis, cp, \"ch3-mon1\", optimized = True)\n",
    "potential_fitting.init_database(mon2_settings, database_config, opt_mon2, method, basis, cp, \"ch3-mon2\", optimized = True)"
   ]
  },
  {
   "cell_type": "markdown",
   "metadata": {},
   "source": [
    "##### Calculate their energy"
   ]
  },
  {
   "cell_type": "code",
   "execution_count": null,
   "metadata": {},
   "outputs": [],
   "source": [
    "potential_fitting.fill_database(mon1_settings, database_config, client_name, \"ch3-mon1\", calculation_count = None)"
   ]
  },
  {
   "cell_type": "code",
   "execution_count": null,
   "metadata": {},
   "outputs": [],
   "source": [
    "potential_fitting.fill_database(mon2_settings, database_config, client_name, \"ch3-mon2\", calculation_count = None)"
   ]
  },
  {
   "cell_type": "markdown",
   "metadata": {},
   "source": [
    "##### Retrieve the configurations"
   ]
  },
  {
   "cell_type": "code",
   "execution_count": null,
   "metadata": {},
   "outputs": [],
   "source": [
    "potential_fitting.generate_training_set(mon1_settings, database_config, mon1_screened, method, basis, cp, \"ch3-mon1\", e_bind_max = bind_emax, e_mon_max = mon_emax)"
   ]
  },
  {
   "cell_type": "code",
   "execution_count": null,
   "metadata": {},
   "outputs": [],
   "source": [
    "potential_fitting.generate_training_set(mon2_settings, database_config, mon2_screened, method, basis, cp, \"ch3-mon2\", e_bind_max = bind_emax, e_mon_max = mon_emax)"
   ]
  },
  {
   "cell_type": "markdown",
   "metadata": {},
   "source": [
    "##### Generate the flexible training and test set configurations"
   ]
  },
  {
   "cell_type": "code",
   "execution_count": null,
   "metadata": {},
   "outputs": [],
   "source": [
    "# Training set\n",
    "potential_fitting.generate_2b_configurations(dim_settings, mon1_screened, mon2_screened, num_flex_training_configs, flex_training_configs, min_d_2b, max_d_2b, min_inter_d, seed_training + 10)"
   ]
  },
  {
   "cell_type": "code",
   "execution_count": null,
   "metadata": {},
   "outputs": [],
   "source": [
    "# Test set\n",
    "potential_fitting.generate_2b_configurations(dim_settings, mon1_screened, mon2_screened, num_flex_test_configs, flex_test_configs, min_d_2b, max_d_2b, min_inter_d, seed_test + 10)"
   ]
  },
  {
   "cell_type": "markdown",
   "metadata": {},
   "source": [
    "##### Add them to the database"
   ]
  },
  {
   "cell_type": "code",
   "execution_count": null,
   "metadata": {},
   "outputs": [],
   "source": [
    "# Training set\n",
    "potential_fitting.init_database(dim_settings, database_config, flex_training_configs, method, basis, cp, \"ch3-training\", optimized = False)"
   ]
  },
  {
   "cell_type": "code",
   "execution_count": null,
   "metadata": {},
   "outputs": [],
   "source": [
    "# Test Set\n",
    "potential_fitting.init_database(dim_settings, database_config, flex_test_configs, method, basis, cp, \"ch3-test\", optimized = False)"
   ]
  },
  {
   "cell_type": "markdown",
   "metadata": {},
   "source": [
    "#### 3.7.3. Normal mode training set"
   ]
  },
  {
   "cell_type": "markdown",
   "metadata": {},
   "source": [
    "##### Generate the configurations"
   ]
  },
  {
   "cell_type": "markdown",
   "metadata": {},
   "source": [
    "In this case we are going to generate normal mode configurations for the dimer, but we will use a low temperature to ensure that we only sample the area around the minimum, and that we don't get too distorted configurations."
   ]
  },
  {
   "cell_type": "code",
   "execution_count": null,
   "metadata": {},
   "outputs": [],
   "source": [
    "# Training Set\n",
    "potential_fitting.generate_normal_mode_configurations(dim_settings, opt_dim, normal_modes_dim, normal_mode_training_configs, num_nm_training_configs, seed_training + 20, temperature = 100)"
   ]
  },
  {
   "cell_type": "code",
   "execution_count": null,
   "metadata": {},
   "outputs": [],
   "source": [
    "# Test Set\n",
    "potential_fitting.generate_normal_mode_configurations(dim_settings, opt_dim, normal_modes_dim, normal_mode_test_configs, num_nm_test_configs, seed_test + 20, temperature = 100)"
   ]
  },
  {
   "cell_type": "markdown",
   "metadata": {},
   "source": [
    "##### Add them to the database"
   ]
  },
  {
   "cell_type": "code",
   "execution_count": null,
   "metadata": {},
   "outputs": [],
   "source": [
    "# Training Set\n",
    "potential_fitting.init_database(dim_settings, database_config, normal_mode_training_configs, method, basis, cp, \"ch3-training\", optimized = False)"
   ]
  },
  {
   "cell_type": "code",
   "execution_count": null,
   "metadata": {},
   "outputs": [],
   "source": [
    "# Test Set\n",
    "potential_fitting.init_database(dim_settings, database_config, normal_mode_test_configs, method, basis, cp, \"ch3-test\", optimized = False)"
   ]
  },
  {
   "cell_type": "markdown",
   "metadata": {},
   "source": [
    "#### 3.7.4. Fill the database"
   ]
  },
  {
   "cell_type": "code",
   "execution_count": null,
   "metadata": {},
   "outputs": [],
   "source": [
    "potential_fitting.fill_database(dim_settings, database_config, client_name, \"ch3-training\", \"ch3-test\", calculation_count = None)"
   ]
  },
  {
   "cell_type": "markdown",
   "metadata": {},
   "source": [
    "#### 3.7.5. Training set and Test set generation"
   ]
  },
  {
   "cell_type": "markdown",
   "metadata": {},
   "source": [
    "Generates the training set file in the format that will be needed in the fitting codes. If your database contains energies computed with a variety of methods/basis, **only one method and basis can be used in the same training set**. The format of the training set is the same as the configurations generated for the training set in previous steps. The difference is that now, the comment line will have the binding, and n-body energy of that configuration."
   ]
  },
  {
   "cell_type": "code",
   "execution_count": null,
   "metadata": {
    "scrolled": false
   },
   "outputs": [],
   "source": [
    "# Obtain training set\n",
    "potential_fitting.generate_training_set(dim_settings, database_config, training_set, method, basis, cp, \"ch3-training\", e_bind_max = bind_emax, e_mon_max = mon_emax)"
   ]
  },
  {
   "cell_type": "code",
   "execution_count": null,
   "metadata": {},
   "outputs": [],
   "source": [
    "# Obtain test set\n",
    "potential_fitting.generate_training_set(dim_settings, database_config, test_set, method, basis, cp, \"ch3-test\", e_bind_max = bind_emax, e_mon_max = mon_emax)"
   ]
  },
  {
   "cell_type": "markdown",
   "metadata": {},
   "source": [
    "### 3.8. MB-nrg fit"
   ]
  },
  {
   "cell_type": "markdown",
   "metadata": {},
   "source": [
    "#### 3.8.1. Obtain and compile the fitting code"
   ]
  },
  {
   "cell_type": "markdown",
   "metadata": {},
   "source": [
    "Generate 2b fitting code"
   ]
  },
  {
   "cell_type": "code",
   "execution_count": null,
   "metadata": {
    "scrolled": false
   },
   "outputs": [],
   "source": [
    "potential_fitting.generate_mbnrg_fitting_code(dim_settings, config, poly_in, poly_directory, polynomial_order, mbnrg_directory)"
   ]
  },
  {
   "cell_type": "markdown",
   "metadata": {},
   "source": [
    "And we compile it."
   ]
  },
  {
   "cell_type": "code",
   "execution_count": null,
   "metadata": {},
   "outputs": [],
   "source": [
    "potential_fitting.compile_fit_code(dim_settings, mbnrg_directory)"
   ]
  },
  {
   "cell_type": "markdown",
   "metadata": {},
   "source": [
    "### 3.8.2. Perform the fit"
   ]
  },
  {
   "cell_type": "markdown",
   "metadata": {},
   "source": [
    "This command will prepare as many folders as fits one needs to run with a bash script that will execute the fit and save the output. If there are 5 fit folders and we run 2 more, two new fit folders will be created."
   ]
  },
  {
   "cell_type": "code",
   "execution_count": null,
   "metadata": {},
   "outputs": [],
   "source": [
    "potential_fitting.prepare_fits(dim_settings, mbnrg_directory + \"/fit-2b\", training_set, num_fits = 5)"
   ]
  },
  {
   "cell_type": "markdown",
   "metadata": {},
   "source": [
    "Now all the fits need to run. This can be done externally or run directly with the following command."
   ]
  },
  {
   "cell_type": "code",
   "execution_count": null,
   "metadata": {},
   "outputs": [],
   "source": [
    "potential_fitting.execute_fits(dim_settings)"
   ]
  },
  {
   "cell_type": "markdown",
   "metadata": {},
   "source": [
    "And finally we retrieve the best fit"
   ]
  },
  {
   "cell_type": "code",
   "execution_count": null,
   "metadata": {},
   "outputs": [],
   "source": [
    "potential_fitting.retrieve_best_fit(dim_settings, ttm = False, fitted_nc_path = \"mbnrg.nc\")"
   ]
  },
  {
   "cell_type": "markdown",
   "metadata": {},
   "source": [
    "### 3.9 Generate plots"
   ]
  },
  {
   "cell_type": "markdown",
   "metadata": {},
   "source": [
    "### 3.10 Add files to MBX"
   ]
  },
  {
   "cell_type": "code",
   "execution_count": null,
   "metadata": {},
   "outputs": [],
   "source": [
    "potential_fitting.fitting.generate_software_files(dim_settings, config, mon_ids, polynomial_order, ttm_only = False, MBX_HOME = None, version = \"v1\")"
   ]
  },
  {
   "cell_type": "code",
   "execution_count": null,
   "metadata": {},
   "outputs": [],
   "source": []
  }
 ],
 "metadata": {
  "kernelspec": {
   "display_name": "Python 3",
   "language": "python",
   "name": "python3"
  },
  "language_info": {
   "codemirror_mode": {
    "name": "ipython",
    "version": 3
   },
   "file_extension": ".py",
   "mimetype": "text/x-python",
   "name": "python",
   "nbconvert_exporter": "python",
   "pygments_lexer": "ipython3",
   "version": "3.7.3"
  }
 },
 "nbformat": 4,
 "nbformat_minor": 2
}
