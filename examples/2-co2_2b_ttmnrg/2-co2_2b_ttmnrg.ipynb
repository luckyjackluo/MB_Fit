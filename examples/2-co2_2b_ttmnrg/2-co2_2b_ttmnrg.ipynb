{
 "cells": [
  {
   "cell_type": "markdown",
   "metadata": {},
   "source": [
    "# MB-Fit tutorial (v20190924)\n",
    "\n",
    "This notebook will walk you through the multiple possibilities one has to obtain many-body fits for multiple molecules. \n",
    "\n"
   ]
  },
  {
   "cell_type": "markdown",
   "metadata": {},
   "source": [
    "### Import the python library\n",
    "Remember that in order to import the library without any errors, you need to perform the following operations in the bash terminal from which you are running the notebook. If you didn't do it, please, close the notebook and write in a bash terminal:\n",
    "```sh\n",
    "cd HOME/DIRECTORY/OF/mbfit\n",
    "source install.sh\n",
    "```\n",
    "Now the following command should run without any problem."
   ]
  },
  {
   "cell_type": "code",
   "execution_count": null,
   "metadata": {},
   "outputs": [],
   "source": [
    "# This is for testing purposes. Can be ignored.\n",
    "%load_ext autoreload\n",
    "%autoreload 2"
   ]
  },
  {
   "cell_type": "code",
   "execution_count": null,
   "metadata": {
    "scrolled": false
   },
   "outputs": [],
   "source": [
    "# The library that will enable the fitting generation and energy calculation\n",
    "import mbfit\n",
    "# Some other useful libraries\n",
    "import os"
   ]
  },
  {
   "cell_type": "markdown",
   "metadata": {},
   "source": [
    "## Example 2. Two-body TTM-nrg PEF for CO2 - CO2"
   ]
  },
  {
   "cell_type": "markdown",
   "metadata": {},
   "source": [
    "### 2.1. Define variables, filepaths, and folders to work in"
   ]
  },
  {
   "cell_type": "code",
   "execution_count": null,
   "metadata": {},
   "outputs": [],
   "source": [
    "main_dir = os.getcwd()"
   ]
  },
  {
   "cell_type": "code",
   "execution_count": null,
   "metadata": {},
   "outputs": [],
   "source": [
    "# The software that will be used to perform all the calculations\n",
    "#code = \"qchem\"\n",
    "code = \"psi4\"\n",
    "\n",
    "# The quantum chemistry method we want to use\n",
    "method = \"HF\"\n",
    "#method = \"MP2\"\n",
    "#method = \"wb97m-v\"\n",
    "\n",
    "# Basis set to use. Must be pre-defined in the software. Custom basis sets not implemented yet.\n",
    "basis = \"STO-3G\"\n",
    "\n",
    "# Use counter-poise correction or not.\n",
    "cp = False\n",
    "#cp = True\n",
    "\n",
    "# Number of threads and memory we would like to use\n",
    "num_threads = 2\n",
    "memory = \"4GB\"\n",
    "\n",
    "# This is the path where all the log files will be stored.\n",
    "log_path = \"logs\""
   ]
  },
  {
   "cell_type": "code",
   "execution_count": null,
   "metadata": {},
   "outputs": [],
   "source": [
    "# Names that will identify the monomers. This is used for identification purposes only.\n",
    "names = [\"CO2\",\"CO2\"]\n",
    "\n",
    "# Number of atoms of each monomer\n",
    "number_of_atoms = [3,3]\n",
    "\n",
    "# Charge of each monomer\n",
    "charges = [0,0]\n",
    "\n",
    "# Spin multiplicity of each monomer\n",
    "spin = [1,1]\n",
    "\n",
    "# Use MB-pol for water (if applicable). \n",
    "# If 1 will use the Partridge-Shwenke PEF for water, with the position dependent charges.\n",
    "use_mbpol = [0,0]"
   ]
  },
  {
   "cell_type": "code",
   "execution_count": null,
   "metadata": {},
   "outputs": [],
   "source": [
    "# Symmetry of the molecule\n",
    "symmetry = [\"A1B2\", \"A1B2\"]\n",
    "\n",
    "# SMILES string\n",
    "smiles = [\"C(O)O\", \"C(O)O\"]"
   ]
  },
  {
   "cell_type": "code",
   "execution_count": null,
   "metadata": {},
   "outputs": [],
   "source": [
    "# Settings for monomer\n",
    "mon_settings = \"monomer_settings.ini\"\n",
    "\n",
    "my_settings_file_mon = \"\"\"\n",
    "[files]\n",
    "# Local path directory to write log files in\n",
    "log_path = \"\"\" + log_path + \"\"\"\n",
    "\n",
    "[config_generator]\n",
    "# what library to use for geometry optimization and normal mode generation\n",
    "code = \"\"\" + code + \"\"\"\n",
    "# use geometric or linear progression for T and A in config generation, exactly 1 must be True\n",
    "geometric = False\n",
    "linear = False\n",
    "\n",
    "[energy_calculator]\n",
    "# what library to use for energy calculations\n",
    "code = \"\"\" + code + \"\"\"\n",
    "\n",
    "[psi4]\n",
    "# memory to use when doing a psi4 calculation\n",
    "memory = \"\"\" + memory + \"\"\"\n",
    "# number of threads to use when executing a psi4 calculation\n",
    "num_threads = \"\"\" + str(num_threads) + \"\"\"\n",
    "\n",
    "[qchem]\n",
    "# number of threads to use when executing a qchem calculation\n",
    "num_threads = \"\"\" + str(num_threads) + \"\"\"\n",
    "\n",
    "[molecule]\n",
    "# name of fragments, seperated by commas\n",
    "names = \"\"\" + names[0] + \"\"\"\n",
    "# number of atoms in each fragment, seperated by commas\n",
    "fragments = \"\"\" + str(number_of_atoms[0]) + \"\"\"\n",
    "# charge of each fragment, seperated by commas\n",
    "charges = \"\"\" + str(charges[0]) + \"\"\"\n",
    "# spin multiplicity of each fragment, seperated by commas\n",
    "spins = \"\"\" + str(spin[0]) + \"\"\"\n",
    "# tag when putting geometries into database\n",
    "tag = none\n",
    "# Use or not MB-pol\n",
    "use_mbpol = \"\"\" + str(use_mbpol[0]) + \"\"\"\n",
    "# symmetry of each fragment, seperated by commas\n",
    "symmetry = \"\"\" + symmetry[0] + \"\"\"\n",
    "SMILES = \"\"\" + smiles[0] + \"\"\"\n",
    "\"\"\""
   ]
  },
  {
   "cell_type": "code",
   "execution_count": null,
   "metadata": {},
   "outputs": [],
   "source": [
    "# Settings for dimer\n",
    "dim_settings = \"dimer_settings.ini\"\n",
    "\n",
    "my_settings_file_dim = \"\"\"\n",
    "[files]\n",
    "# Local path directory to write log files in\n",
    "log_path = \"\"\" + log_path + \"\"\"\n",
    "\n",
    "[config_generator]\n",
    "# what library to use for geometry optimization and normal mode generation\n",
    "code = \"\"\" + code + \"\"\"\n",
    "# use geometric or linear progression for T and A in config generation, exactly 1 must be True\n",
    "geometric = False\n",
    "linear = False\n",
    "\n",
    "[energy_calculator]\n",
    "# what library to use for energy calculations\n",
    "code = \"\"\" + code + \"\"\"\n",
    "\n",
    "[psi4]\n",
    "# memory to use when doing a psi4 calculation\n",
    "memory = \"\"\" + memory + \"\"\"\n",
    "# number of threads to use when executing a psi4 calculation\n",
    "num_threads = \"\"\" + str(num_threads) + \"\"\"\n",
    "\n",
    "[qchem]\n",
    "# number of threads to use when executing a qchem calculation\n",
    "num_threads = \"\"\" + str(num_threads) + \"\"\"\n",
    "\n",
    "[molecule]\n",
    "# name of fragments, seperated by commas\n",
    "names = \"\"\" + names[0] + \",\" + names[1] + \"\"\"\n",
    "# number of atoms in each fragment, seperated by commas\n",
    "fragments = \"\"\" + str(number_of_atoms[0]) + \"\"\",\"\"\" + str(number_of_atoms[1]) + \"\"\"\n",
    "# charge of each fragment, seperated by commas\n",
    "charges = \"\"\" + str(charges[0]) + \"\"\",\"\"\" + str(charges[1]) + \"\"\"\n",
    "# spin multiplicity of each fragment, seperated by commas\n",
    "spins = \"\"\" + str(spin[0]) + \"\"\",\"\"\" + str(spin[1]) + \"\"\"\n",
    "# tag when putting geometries into database\n",
    "tag = none\n",
    "# Use or not MB-pol\n",
    "use_mbpol = \"\"\" + str(use_mbpol[0]) + \"\"\",\"\"\" + str(use_mbpol[1]) + \"\"\"\n",
    "# symmetry of each fragment, seperated by commas\n",
    "symmetry = \"\"\" + symmetry[0] + \"\"\",\"\"\" + symmetry[1] + \"\"\"\n",
    "SMILES = \"\"\" + smiles[0] + \"\"\",\"\"\" + smiles[1] + \"\"\"\n",
    "\"\"\""
   ]
  },
  {
   "cell_type": "code",
   "execution_count": null,
   "metadata": {},
   "outputs": [],
   "source": [
    "# Write the files:\n",
    "ff = open(mon_settings,'w')\n",
    "ff.write(my_settings_file_mon)\n",
    "ff.close()\n",
    "\n",
    "ff = open(dim_settings,'w')\n",
    "ff.write(my_settings_file_dim)\n",
    "ff.close()"
   ]
  },
  {
   "cell_type": "code",
   "execution_count": null,
   "metadata": {},
   "outputs": [],
   "source": [
    "# XYZ file that contains the unoptimized geommetry of the monomer\n",
    "unopt_mon = \"monomer.xyz\"\n",
    "\n",
    "my_unopt_monomer = \"\"\"3\n",
    "unoptimized co2\n",
    "C   0   0   0\n",
    "O   1.3   0   0\n",
    "O   -1.3  0   0\n",
    "\"\"\""
   ]
  },
  {
   "cell_type": "code",
   "execution_count": null,
   "metadata": {},
   "outputs": [],
   "source": [
    "# Write the file:\n",
    "ff = open(unopt_mon,'w')\n",
    "ff.write(my_unopt_monomer)\n",
    "ff.close()"
   ]
  },
  {
   "cell_type": "code",
   "execution_count": null,
   "metadata": {},
   "outputs": [],
   "source": [
    "# XYZ file that contains the optimized geommetry of the monomer\n",
    "opt_mon = \"monomer_opt.xyz\""
   ]
  },
  {
   "cell_type": "code",
   "execution_count": null,
   "metadata": {},
   "outputs": [],
   "source": [
    "# XYZ file with the configurations of the training set\n",
    "training_configs = \"training_configs.xyz\"\n",
    "\n",
    "# XYZ file with the configurations of the test set\n",
    "test_configs = \"test_configs.xyz\"\n",
    "\n",
    "# XYZ file with the training set that the codes need to perform the fit\n",
    "# Configurations are the same as training_configs but this file\n",
    "# has the energies in the comment line\n",
    "training_set = \"training_set.xyz\"\n",
    "\n",
    "# XYZ file with the test set that the codes need to perform the fit\n",
    "# Configurations are the same as test_configs but this file\n",
    "# has the energies in the comment line \n",
    "test_set = \"test_set.xyz\""
   ]
  },
  {
   "cell_type": "code",
   "execution_count": null,
   "metadata": {},
   "outputs": [],
   "source": [
    "# PostgreSQL database that stores structures and energies\n",
    "database_config = \"local.ini\"\n",
    "client_name = \"pikachu\""
   ]
  },
  {
   "cell_type": "code",
   "execution_count": null,
   "metadata": {},
   "outputs": [],
   "source": [
    "my_database_settings = \"\"\"[database]\n",
    "host = piggy.pl.ucsd.edu\n",
    "port = 5432\n",
    "database = potential_fitting\n",
    "username = potential_fitting\n",
    "password = 9t8ARDuN2Wy49VtMOrcJyHtOzyKhkiId\n",
    "\"\"\"\n",
    "\n",
    "# Write the file. Remember to update the username and password!\n",
    "ff = open(database_config,'w')\n",
    "ff.write(my_database_settings)\n",
    "ff.close()"
   ]
  },
  {
   "cell_type": "code",
   "execution_count": null,
   "metadata": {},
   "outputs": [],
   "source": [
    "# Monomers 1 and 2 separated by '_'\n",
    "molecule_in = \"_\".join(symmetry)\n",
    "\n",
    "# Configuration file that contains all the monomer \n",
    "# and dimer information. Will be used to generate the 2B codes.\n",
    "config = \"config.ini\""
   ]
  },
  {
   "cell_type": "code",
   "execution_count": null,
   "metadata": {},
   "outputs": [],
   "source": [
    "# Directory where ttm-nrg fitting code will be stored\n",
    "ttmnrg_directory = \"ttm-nrg_fit\"\n",
    "ttmnrg_fits_dir = \"fits_ttmnrg\""
   ]
  },
  {
   "cell_type": "code",
   "execution_count": null,
   "metadata": {},
   "outputs": [],
   "source": [
    "# Number of configurations in the 2b training_set\n",
    "num_training_configs = 300\n",
    "\n",
    "# Number of configurations in the 2b test set\n",
    "num_test_configs = 50\n",
    "\n",
    "# Maximum energy allowed for distorted monomers (in kcal/mol)\n",
    "mon_emax = 30.0\n",
    "\n",
    "# Maximum binding energy allowed\n",
    "bind_emax = 500.0\n",
    "\n",
    "# Minimum and maximum distance between the two monomers\n",
    "min_d_2b = 1.0\n",
    "max_d_2b = 8.0\n",
    "\n",
    "# Minimum fraction of the VdW distance that is allowed between any atoms that belong to different monomers\n",
    "min_inter_d = 0.5\n",
    "\n",
    "# Seeds to be used in the configuration generation to ensure different\n",
    "# configurations for training and test\n",
    "seed_training = 12345\n",
    "seed_test = 54321\n",
    "\n",
    "# IDs of the monomers (should be consistent with the 1B id for each)\n",
    "mon_ids = [\"co2\",\"co2\"]\n",
    "\n",
    "# Number of TTM-nrg fits to perform\n",
    "num_ttm_fits = 5"
   ]
  },
  {
   "cell_type": "markdown",
   "metadata": {},
   "source": [
    "### 2.2. Geometry optimization"
   ]
  },
  {
   "cell_type": "code",
   "execution_count": null,
   "metadata": {},
   "outputs": [],
   "source": [
    "help(mbfit.optimize_geometry)"
   ]
  },
  {
   "cell_type": "code",
   "execution_count": null,
   "metadata": {},
   "outputs": [],
   "source": [
    "# Optimize monomer\n",
    "mbfit.optimize_geometry(mon_settings, unopt_mon, opt_mon, method, basis)"
   ]
  },
  {
   "cell_type": "markdown",
   "metadata": {},
   "source": [
    "### 2.3. Training and Test Set generation"
   ]
  },
  {
   "cell_type": "markdown",
   "metadata": {},
   "source": [
    "#### 2.3.1. Generate configurations"
   ]
  },
  {
   "cell_type": "code",
   "execution_count": null,
   "metadata": {},
   "outputs": [],
   "source": [
    "help(mbfit.generate_2b_configurations)"
   ]
  },
  {
   "cell_type": "code",
   "execution_count": null,
   "metadata": {},
   "outputs": [],
   "source": [
    "# Training Set\n",
    "mbfit.generate_2b_configurations(dim_settings, opt_mon, opt_mon, num_training_configs, training_configs, \n",
    "                                             min_distance = min_d_2b, \n",
    "                                             max_distance = max_d_2b, \n",
    "                                             min_inter_distance = min_inter_d, \n",
    "                                             progression = True, logarithmic = True,\n",
    "                                             seed = seed_training)"
   ]
  },
  {
   "cell_type": "code",
   "execution_count": null,
   "metadata": {},
   "outputs": [],
   "source": [
    "# Test Set\n",
    "mbfit.generate_2b_configurations(dim_settings, opt_mon, opt_mon, \n",
    "                                             num_test_configs, test_configs, \n",
    "                                             min_distance = min_d_2b, \n",
    "                                             max_distance = max_d_2b, \n",
    "                                             min_inter_distance = min_inter_d, \n",
    "                                             progression = True, logarithmic = True,\n",
    "                                             seed = seed_test)"
   ]
  },
  {
   "cell_type": "markdown",
   "metadata": {},
   "source": [
    "#### 2.3.2. Add configurations to the database"
   ]
  },
  {
   "cell_type": "code",
   "execution_count": null,
   "metadata": {},
   "outputs": [],
   "source": [
    "help(mbfit.init_database)"
   ]
  },
  {
   "cell_type": "code",
   "execution_count": null,
   "metadata": {},
   "outputs": [],
   "source": [
    "# Training set\n",
    "mbfit.init_database(dim_settings, database_config, \n",
    "                                training_configs, method, basis, \n",
    "                                cp, \"train_example2_co2\", optimized = False)"
   ]
  },
  {
   "cell_type": "code",
   "execution_count": null,
   "metadata": {},
   "outputs": [],
   "source": [
    "# Test Set\n",
    "mbfit.init_database(dim_settings, database_config, \n",
    "                                test_configs, method, basis, \n",
    "                                cp, \"test_example2_co2\", optimized = False)"
   ]
  },
  {
   "cell_type": "code",
   "execution_count": null,
   "metadata": {},
   "outputs": [],
   "source": [
    "# Add monomer optimized geommetry to database (needed for binding energy)\n",
    "mbfit.init_database(mon_settings, database_config, opt_mon, \n",
    "                                method, basis, cp, \"train_example2_co2\", optimized = True)\n",
    "mbfit.init_database(mon_settings, database_config, opt_mon, \n",
    "                                method, basis, cp, \"test_example2_co2\", optimized = True)"
   ]
  },
  {
   "cell_type": "markdown",
   "metadata": {},
   "source": [
    "#### 2.3.3. Fill the database"
   ]
  },
  {
   "cell_type": "code",
   "execution_count": null,
   "metadata": {},
   "outputs": [],
   "source": [
    "help(mbfit.fill_database)"
   ]
  },
  {
   "cell_type": "code",
   "execution_count": null,
   "metadata": {},
   "outputs": [],
   "source": [
    "# Option 1: Use the database filler\n",
    "mbfit.fill_database(dim_settings, database_config, \n",
    "                                client_name, \n",
    "                                \"train_example2_co2\", \"test_example2_co2\")"
   ]
  },
  {
   "cell_type": "code",
   "execution_count": null,
   "metadata": {},
   "outputs": [],
   "source": [
    "# Option 2: Write the jobs, run it externally, and retrieve the outputs\n",
    "help(mbfit.make_jobs)\n",
    "help(mbfit.read_jobs)"
   ]
  },
  {
   "cell_type": "code",
   "execution_count": null,
   "metadata": {
    "scrolled": true
   },
   "outputs": [],
   "source": [
    "# Generate the jobs\n",
    "jobs_folder = \"jobs\"\n",
    "mbfit.make_jobs(dim_settings, database_config, \n",
    "                            client_name,jobs_folder, \n",
    "                            \"train_example2_co2\", \"test_example2_co2\")"
   ]
  },
  {
   "cell_type": "code",
   "execution_count": null,
   "metadata": {},
   "outputs": [],
   "source": [
    "# Run the jobs (can be done externally, supercomputer...)\n",
    "import glob\n",
    "if os.path.isdir(jobs_folder):\n",
    "    os.chdir(jobs_folder)\n",
    "    job_files = glob.glob('*.py')\n",
    "    njobs = 0\n",
    "    for this_job in job_files:\n",
    "        njobs += 1\n",
    "        print(njobs,\"/\",len(job_files))\n",
    "        os.system(\"python3 \" + this_job)\n",
    "    os.chdir(\"../\")"
   ]
  },
  {
   "cell_type": "code",
   "execution_count": null,
   "metadata": {},
   "outputs": [],
   "source": [
    "# Read the job outputs and store information in the database\n",
    "if os.path.isdir(jobs_folder):\n",
    "    mbfit.read_jobs(dim_settings, database_config, jobs_folder)"
   ]
  },
  {
   "cell_type": "markdown",
   "metadata": {},
   "source": [
    "#### 2.3.4. Training set and Test set generation"
   ]
  },
  {
   "cell_type": "code",
   "execution_count": null,
   "metadata": {},
   "outputs": [],
   "source": [
    "help(mbfit.generate_training_set)"
   ]
  },
  {
   "cell_type": "code",
   "execution_count": null,
   "metadata": {
    "scrolled": false
   },
   "outputs": [],
   "source": [
    "# Generate training set\n",
    "mbfit.generate_training_set(dim_settings, database_config, training_set, \n",
    "                                        method, basis, cp, \"train_example2_co2\", \n",
    "                                        e_bind_max = bind_emax, e_mon_max = mon_emax)\n",
    "\n",
    "# Generate test set\n",
    "mbfit.generate_training_set(dim_settings, database_config, test_set, \n",
    "                                        method, basis, cp, \"test_example2_co2\", \n",
    "                                        e_bind_max = bind_emax, e_mon_max = mon_emax)"
   ]
  },
  {
   "cell_type": "markdown",
   "metadata": {},
   "source": [
    "### 2.4. Obtain charges, polarizabilities, and C6"
   ]
  },
  {
   "cell_type": "code",
   "execution_count": null,
   "metadata": {},
   "outputs": [],
   "source": [
    "help(mbfit.get_system_properties)"
   ]
  },
  {
   "cell_type": "code",
   "execution_count": null,
   "metadata": {},
   "outputs": [],
   "source": [
    "chg, pol, c6 = mbfit.get_system_properties(dim_settings, config, geo_paths = [opt_mon, opt_mon])"
   ]
  },
  {
   "cell_type": "code",
   "execution_count": null,
   "metadata": {},
   "outputs": [],
   "source": [
    "help(mbfit.write_config_file)"
   ]
  },
  {
   "cell_type": "code",
   "execution_count": null,
   "metadata": {
    "scrolled": false
   },
   "outputs": [],
   "source": [
    "mbfit.write_config_file(dim_settings, config, chg, pol, [opt_mon, opt_mon], c6)"
   ]
  },
  {
   "cell_type": "markdown",
   "metadata": {},
   "source": [
    "### 2.5. Fitting the TTM-nrg PEF"
   ]
  },
  {
   "cell_type": "markdown",
   "metadata": {},
   "source": [
    "#### 2.5.1. Obtain and compile the fitting code"
   ]
  },
  {
   "cell_type": "code",
   "execution_count": null,
   "metadata": {},
   "outputs": [],
   "source": [
    "help(mbfit.generate_ttmnrg_fitting_code)"
   ]
  },
  {
   "cell_type": "code",
   "execution_count": null,
   "metadata": {
    "scrolled": false
   },
   "outputs": [],
   "source": [
    "mbfit.generate_ttmnrg_fitting_code(dim_settings, config, ttmnrg_directory)"
   ]
  },
  {
   "cell_type": "code",
   "execution_count": null,
   "metadata": {},
   "outputs": [],
   "source": [
    "help(mbfit.compile_fit_code)"
   ]
  },
  {
   "cell_type": "code",
   "execution_count": null,
   "metadata": {},
   "outputs": [],
   "source": [
    "mbfit.compile_fit_code(dim_settings, ttmnrg_directory)"
   ]
  },
  {
   "cell_type": "markdown",
   "metadata": {},
   "source": [
    "#### 2.5.2. Perform the fit"
   ]
  },
  {
   "cell_type": "code",
   "execution_count": null,
   "metadata": {},
   "outputs": [],
   "source": [
    "help(mbfit.prepare_fits)"
   ]
  },
  {
   "cell_type": "code",
   "execution_count": null,
   "metadata": {},
   "outputs": [],
   "source": [
    "mbfit.prepare_fits(dim_settings, ttmnrg_directory, \n",
    "                               training_set, ttmnrg_fits_dir, \n",
    "                               DE=20, alpha=0.0005, num_fits=num_ttm_fits, \n",
    "                               ttm=True, over_ttm=False)"
   ]
  },
  {
   "cell_type": "code",
   "execution_count": null,
   "metadata": {},
   "outputs": [],
   "source": [
    "help(mbfit.execute_fits)"
   ]
  },
  {
   "cell_type": "code",
   "execution_count": null,
   "metadata": {},
   "outputs": [],
   "source": [
    "mbfit.execute_fits(dim_settings, ttmnrg_fits_dir)"
   ]
  },
  {
   "cell_type": "code",
   "execution_count": null,
   "metadata": {},
   "outputs": [],
   "source": [
    "help(mbfit.retrieve_best_fit)"
   ]
  },
  {
   "cell_type": "code",
   "execution_count": null,
   "metadata": {},
   "outputs": [],
   "source": [
    "mbfit.retrieve_best_fit(dim_settings, ttmnrg_fits_dir)"
   ]
  },
  {
   "cell_type": "code",
   "execution_count": null,
   "metadata": {},
   "outputs": [],
   "source": [
    "help(mbfit.update_config_with_ttm)"
   ]
  },
  {
   "cell_type": "code",
   "execution_count": null,
   "metadata": {},
   "outputs": [],
   "source": [
    "mbfit.update_config_with_ttm(dim_settings, ttmnrg_fits_dir, config)"
   ]
  },
  {
   "cell_type": "markdown",
   "metadata": {},
   "source": [
    "### 2.6. Visualize the fits"
   ]
  },
  {
   "cell_type": "code",
   "execution_count": null,
   "metadata": {},
   "outputs": [],
   "source": [
    "help(mbfit.get_correlation_data)"
   ]
  },
  {
   "cell_type": "code",
   "execution_count": null,
   "metadata": {},
   "outputs": [],
   "source": [
    "energies = mbfit.get_correlation_data(dim_settings, ttmnrg_directory, ttmnrg_fits_dir,\n",
    "                                                  test_set, min_energy_plot = -5.0, max_energy_plot = 50.0,\n",
    "                                                  split_energy = 5.0, ttm=True)"
   ]
  },
  {
   "cell_type": "markdown",
   "metadata": {},
   "source": [
    "### 2.7. Calculate the energy of configurations"
   ]
  },
  {
   "cell_type": "code",
   "execution_count": null,
   "metadata": {},
   "outputs": [],
   "source": [
    "help(mbfit.calculate_model_energies)"
   ]
  },
  {
   "cell_type": "code",
   "execution_count": null,
   "metadata": {},
   "outputs": [],
   "source": [
    "energies_from_configs = mbfit.calculate_model_energies(dim_settings, ttmnrg_directory, \n",
    "                                                                   ttmnrg_fits_dir, test_configs, ttm = True)"
   ]
  },
  {
   "cell_type": "markdown",
   "metadata": {},
   "source": [
    "### 2.8. Add potential to MBX"
   ]
  },
  {
   "cell_type": "code",
   "execution_count": null,
   "metadata": {
    "scrolled": true
   },
   "outputs": [],
   "source": [
    "help(mbfit.generate_MBX_files)"
   ]
  },
  {
   "cell_type": "code",
   "execution_count": null,
   "metadata": {},
   "outputs": [],
   "source": [
    "mbfit.generate_MBX_files(dim_settings, config, mon_ids, do_ttmnrg = True, MBX_HOME = None, version = \"v1\")"
   ]
  }
 ],
 "metadata": {
  "kernelspec": {
   "display_name": "Python 3",
   "language": "python",
   "name": "python3"
  },
  "language_info": {
   "codemirror_mode": {
    "name": "ipython",
    "version": 3
   },
   "file_extension": ".py",
   "mimetype": "text/x-python",
   "name": "python",
   "nbconvert_exporter": "python",
   "pygments_lexer": "ipython3",
   "version": "3.7.8"
  }
 },
 "nbformat": 4,
 "nbformat_minor": 2
}
