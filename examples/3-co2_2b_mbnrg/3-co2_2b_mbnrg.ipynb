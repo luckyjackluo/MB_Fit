{
 "cells": [
  {
   "cell_type": "markdown",
   "metadata": {},
   "source": [
    "# MB-Fit tutorial (v20190924)\n",
    "\n",
    "This notebook will walk you through the multiple possibilities one has to obtain many-body fits for multiple molecules. \n",
    "\n"
   ]
  },
  {
   "cell_type": "markdown",
   "metadata": {},
   "source": [
    "## Chapter 0. Set up the notebook."
   ]
  },
  {
   "cell_type": "markdown",
   "metadata": {},
   "source": [
    "### 0.1. Import the python library\n",
    "Remember that in order to import the library without any errors, you need to perform the following operations in the bash terminal from which you are running the notebook. If you didn't do it, please, close the notebook and write in a bash terminal:\n",
    "```sh\n",
    "cd HOME/DIRECTORY/OF/mbfit\n",
    "source install.sh\n",
    "```\n",
    "Now the following command should run without any problem."
   ]
  },
  {
   "cell_type": "code",
   "execution_count": null,
   "metadata": {},
   "outputs": [],
   "source": [
    "# This is for testing purposes. Can be ignored.\n",
    "%load_ext autoreload\n",
    "%autoreload 2"
   ]
  },
  {
   "cell_type": "code",
   "execution_count": null,
   "metadata": {
    "scrolled": false
   },
   "outputs": [],
   "source": [
    "# The library that will enable the fitting generation and energy calculation\n",
    "import mbfit\n",
    "# Some other useful libraries\n",
    "import os"
   ]
  },
  {
   "cell_type": "markdown",
   "metadata": {},
   "source": [
    "## Example 3. Generate a CO2-CO2 two-body MB-nrg PEF"
   ]
  },
  {
   "cell_type": "markdown",
   "metadata": {},
   "source": [
    "### 3.1. Definition of the variables"
   ]
  },
  {
   "cell_type": "code",
   "execution_count": null,
   "metadata": {},
   "outputs": [],
   "source": [
    "main_dir = os.getcwd()"
   ]
  },
  {
   "cell_type": "code",
   "execution_count": null,
   "metadata": {},
   "outputs": [],
   "source": [
    "# The software that will be used to perform all the calculations\n",
    "code = \"qchem\"\n",
    "#code = \"psi4\"\n",
    "\n",
    "# The quantum chemistry method we want to use\n",
    "method = \"HF\"\n",
    "#method = \"MP2\"\n",
    "#method = \"wb97m-v\"\n",
    "\n",
    "# Basis set to use. Must be pre-defined in the software. Custom basis sets not implemented yet.\n",
    "basis = \"STO-3G\"\n",
    "\n",
    "# Use counter-poise correction or not.\n",
    "cp = False\n",
    "#cp = True\n",
    "\n",
    "# Number of threads and memory we would like to use\n",
    "num_threads = 2\n",
    "memory = \"4GB\"\n",
    "\n",
    "# This is the path where all the log files will be stored.\n",
    "log_path = \"logs\""
   ]
  },
  {
   "cell_type": "code",
   "execution_count": null,
   "metadata": {},
   "outputs": [],
   "source": [
    "# Names that will identify the monomers. This is used for identification purposes only.\n",
    "names = [\"CO2\",\"CO2\"]\n",
    "\n",
    "# Number of atoms of each monomer\n",
    "number_of_atoms = [3,3]\n",
    "\n",
    "# Charge of each monomer\n",
    "charges = [0,0]\n",
    "\n",
    "# Spin multiplicity of each monomer\n",
    "spin = [1,1]\n",
    "\n",
    "# Use MB-pol for water (if applicable). \n",
    "# If 1 will use the Partridge-Shwenke PEF for water, with the position dependent charges.\n",
    "use_mbpol = [0,0]"
   ]
  },
  {
   "cell_type": "code",
   "execution_count": null,
   "metadata": {},
   "outputs": [],
   "source": [
    "# Symmetry of the molecule\n",
    "symmetry = [\"A1B2\", \"A1B2\"]\n",
    "\n",
    "# SMILES string\n",
    "smiles = [\"C(O)O\", \"C(O)O\"]"
   ]
  },
  {
   "cell_type": "code",
   "execution_count": null,
   "metadata": {},
   "outputs": [],
   "source": [
    "# Settings for monomer\n",
    "mon_settings = \"monomer_settings.ini\"\n",
    "\n",
    "my_settings_file_mon = \"\"\"\n",
    "[files]\n",
    "# Local path directory to write log files in\n",
    "log_path = \"\"\" + log_path + \"\"\"\n",
    "\n",
    "[config_generator]\n",
    "# what library to use for geometry optimization and normal mode generation\n",
    "code = \"\"\" + code + \"\"\"\n",
    "# use geometric or linear progression for T and A in config generation, exactly 1 must be True\n",
    "geometric = False\n",
    "linear = False\n",
    "\n",
    "[energy_calculator]\n",
    "# what library to use for energy calculations\n",
    "code = \"\"\" + code + \"\"\"\n",
    "\n",
    "[psi4]\n",
    "# memory to use when doing a psi4 calculation\n",
    "memory = \"\"\" + memory + \"\"\"\n",
    "# number of threads to use when executing a psi4 calculation\n",
    "num_threads = \"\"\" + str(num_threads) + \"\"\"\n",
    "\n",
    "[qchem]\n",
    "# number of threads to use when executing a qchem calculation\n",
    "num_threads = \"\"\" + str(num_threads) + \"\"\"\n",
    "\n",
    "[molecule]\n",
    "# name of fragments, seperated by commas\n",
    "names = \"\"\" + names[0] + \"\"\"\n",
    "# number of atoms in each fragment, seperated by commas\n",
    "fragments = \"\"\" + str(number_of_atoms[0]) + \"\"\"\n",
    "# charge of each fragment, seperated by commas\n",
    "charges = \"\"\" + str(charges[0]) + \"\"\"\n",
    "# spin multiplicity of each fragment, seperated by commas\n",
    "spins = \"\"\" + str(spin[0]) + \"\"\"\n",
    "# tag when putting geometries into database\n",
    "tag = none\n",
    "# Use or not MB-pol\n",
    "use_mbpol = \"\"\" + str(use_mbpol[0]) + \"\"\"\n",
    "# symmetry of each fragment, seperated by commas\n",
    "symmetry = \"\"\" + symmetry[0] + \"\"\"\n",
    "SMILES = \"\"\" + smiles[0] + \"\"\"\n",
    "\"\"\"\n",
    "\n"
   ]
  },
  {
   "cell_type": "code",
   "execution_count": null,
   "metadata": {},
   "outputs": [],
   "source": [
    "# Settings for dimer\n",
    "dim_settings = \"dimer_settings.ini\"\n",
    "\n",
    "my_settings_file_dim = \"\"\"\n",
    "[files]\n",
    "# Local path directory to write log files in\n",
    "log_path = \"\"\" + log_path + \"\"\"\n",
    "\n",
    "[config_generator]\n",
    "# what library to use for geometry optimization and normal mode generation\n",
    "code = \"\"\" + code + \"\"\"\n",
    "# use geometric or linear progression for T and A in config generation, exactly 1 must be True\n",
    "geometric = False\n",
    "linear = False\n",
    "\n",
    "[energy_calculator]\n",
    "# what library to use for energy calculations\n",
    "code = \"\"\" + code + \"\"\"\n",
    "\n",
    "[psi4]\n",
    "# memory to use when doing a psi4 calculation\n",
    "memory = \"\"\" + memory + \"\"\"\n",
    "# number of threads to use when executing a psi4 calculation\n",
    "num_threads = \"\"\" + str(num_threads) + \"\"\"\n",
    "\n",
    "[qchem]\n",
    "# number of threads to use when executing a qchem calculation\n",
    "num_threads = \"\"\" + str(num_threads) + \"\"\"\n",
    "\n",
    "[molecule]\n",
    "# name of fragments, seperated by commas\n",
    "names = \"\"\" + names[0] + \",\" + names[1] + \"\"\"\n",
    "# number of atoms in each fragment, seperated by commas\n",
    "fragments = \"\"\" + str(number_of_atoms[0]) + \"\"\",\"\"\" + str(number_of_atoms[1]) + \"\"\"\n",
    "# charge of each fragment, seperated by commas\n",
    "charges = \"\"\" + str(charges[0]) + \"\"\",\"\"\" + str(charges[1]) + \"\"\"\n",
    "# spin multiplicity of each fragment, seperated by commas\n",
    "spins = \"\"\" + str(spin[0]) + \"\"\",\"\"\" + str(spin[1]) + \"\"\"\n",
    "# tag when putting geometries into database\n",
    "tag = none\n",
    "# Use or not MB-pol\n",
    "use_mbpol = \"\"\" + str(use_mbpol[0]) + \"\"\",\"\"\" + str(use_mbpol[1]) + \"\"\"\n",
    "# symmetry of each fragment, seperated by commas\n",
    "symmetry = \"\"\" + symmetry[0] + \"\"\",\"\"\" + symmetry[1] + \"\"\"\n",
    "SMILES = \"\"\" + smiles[0] + \"\"\",\"\"\" + smiles[1] + \"\"\"\n",
    "\"\"\""
   ]
  },
  {
   "cell_type": "code",
   "execution_count": null,
   "metadata": {},
   "outputs": [],
   "source": [
    "# Write the files:\n",
    "ff = open(mon_settings,'w')\n",
    "ff.write(my_settings_file_mon)\n",
    "ff.close()\n",
    "\n",
    "ff = open(dim_settings,'w')\n",
    "ff.write(my_settings_file_dim)\n",
    "ff.close()"
   ]
  },
  {
   "cell_type": "code",
   "execution_count": null,
   "metadata": {},
   "outputs": [],
   "source": [
    "# XYZ file that contains the unoptimized geommetry of the monomer\n",
    "unopt_mon = \"monomer.xyz\"\n",
    "\n",
    "my_unopt_monomer = \"\"\"3\n",
    "unoptimized co2\n",
    "C   0   0   0\n",
    "O   1.3   0   0\n",
    "O   -1.3  0   0\n",
    "\"\"\""
   ]
  },
  {
   "cell_type": "code",
   "execution_count": null,
   "metadata": {},
   "outputs": [],
   "source": [
    "# Write the file:\n",
    "ff = open(unopt_mon,'w')\n",
    "ff.write(my_unopt_monomer)\n",
    "ff.close()"
   ]
  },
  {
   "cell_type": "code",
   "execution_count": null,
   "metadata": {},
   "outputs": [],
   "source": [
    "# XYZ file that contains the optimized geommetry of the monomer\n",
    "opt_mon = \"monomer_opt.xyz\"\n",
    "\n",
    "# File where normal modes of monomer 1 will be outputed\n",
    "normal_modes_mon = \"monomer_normal_modes.dat\"\n",
    "\n",
    "# Same for dimer\n",
    "unopt_dim = \"dimer.xyz\"\n",
    "opt_dim = \"dimer_opt.xyz\"\n",
    "normal_modes_dim = \"dimer_normal_modes.dat\""
   ]
  },
  {
   "cell_type": "code",
   "execution_count": null,
   "metadata": {},
   "outputs": [],
   "source": [
    "# XYZ file with the configurations of the training set\n",
    "rigid_training_configs = \"rigid_training_configs.xyz\" \n",
    "flex_training_configs = \"flex_training_configs.xyz\"\n",
    "normal_mode_training_configs = \"normal_mode_training_configs\"\n",
    "\n",
    "ttm_training_configs = \"ttm_training_configs.xyz\"\n",
    "\n",
    "# XYZ file with the configurations of the test set\n",
    "rigid_test_configs = \"rigid_test_configs.xyz\" \n",
    "flex_test_configs = \"flex_test_configs.xyz\"\n",
    "normal_mode_test_configs = \"normal_mode_test_configs\"\n",
    "\n",
    "ttm_test_configs = \"ttm_test_configs.xyz\"\n",
    "\n",
    "# Distorted monomer configurations for the flexible training set\n",
    "mon_distorted = \"mon_distorted.xyz\"\n",
    "\n",
    "# And the screened values\n",
    "mon_screened = \"mon_screened.xyz\"\n",
    "\n",
    "# XYZ file with the training set that the codes need to perform the fit\n",
    "# Configurations are the same as training_configs but this file\n",
    "# has the energies in the comment line\n",
    "training_set = \"training_set.xyz\"\n",
    "ttm_training_set = \"ttm_training_set.xyz\"\n",
    "\n",
    "# XYZ file with the test set that the codes need to perform the fit\n",
    "# Configurations are the same as test_configs but this file\n",
    "# has the energies in the comment line \n",
    "test_set = \"test_set.xyz\"\n",
    "ttm_test_set = \"ttm_test_set.xyz\"\n"
   ]
  },
  {
   "cell_type": "code",
   "execution_count": null,
   "metadata": {},
   "outputs": [],
   "source": [
    "# PostgreSQL database that stores structures and energies\n",
    "database_config = \"local.ini\"\n",
    "client_name = \"pikachu\""
   ]
  },
  {
   "cell_type": "code",
   "execution_count": null,
   "metadata": {},
   "outputs": [],
   "source": [
    "my_database_settings = \"\"\"[database]\n",
    "host = piggy.pl.ucsd.edu\n",
    "port = 5432\n",
    "database = potential_fitting\n",
    "username = potential_fitting\n",
    "password = 9t8ARDuN2Wy49VtMOrcJyHtOzyKhkiId\n",
    "\"\"\"\n",
    "\n",
    "# Write the file. Remember to update the username and password!\n",
    "ff = open(database_config,'w')\n",
    "ff.write(my_database_settings)\n",
    "ff.close()"
   ]
  },
  {
   "cell_type": "code",
   "execution_count": null,
   "metadata": {},
   "outputs": [],
   "source": [
    "# Monomers 1 and 2 separated by '_'\n",
    "molecule_in = \"_\".join(symmetry)\n",
    "\n",
    "# Configuration file that contains all the monomer \n",
    "# and dimer information. Will be used to generate the 2B codes.\n",
    "config = \"config.ini\"\n",
    "\n",
    "# Input file for the polynomial generation\n",
    "poly_in = \"poly.in\"\n",
    "\n",
    "# Directory where the polynomials will be generated\n",
    "poly_directory = \"polynomial_generation\"\n",
    "\n",
    "# Degree of the polynomials\n",
    "polynomial_order = 2"
   ]
  },
  {
   "cell_type": "code",
   "execution_count": null,
   "metadata": {},
   "outputs": [],
   "source": [
    "# Directory where mb-nrg fitting code will be stored\n",
    "mbnrg_directory = \"mb-nrg_fitting_code\"\n",
    "mbnrg_fits_directory = \"mb-nrg_fits\""
   ]
  },
  {
   "cell_type": "code",
   "execution_count": null,
   "metadata": {},
   "outputs": [],
   "source": [
    "# Number of configurations in the 2b training_set\n",
    "num_training_configs = 1000\n",
    "############################\n",
    "num_rigid_training_configs = int(0.35*num_training_configs)\n",
    "num_flex_training_configs = int(0.5*num_training_configs)\n",
    "num_nm_training_configs = int(0.15*num_training_configs)\n",
    "\n",
    "# Number of configurations in the 2b test set\n",
    "num_test_configs = int(0.2*num_training_configs)\n",
    "\n",
    "num_rigid_test_configs = int(0.35*num_test_configs)\n",
    "num_flex_test_configs = int(0.5*num_test_configs)\n",
    "num_nm_test_configs = int(0.15*num_test_configs)\n",
    "############################\n",
    "\n",
    "# Number of distorted configurations for monomer 1 and monomer 2\n",
    "num_mon_distorted = 100\n",
    "\n",
    "# Maximum energy allowed for distorted monomers (in kcal/mol)\n",
    "mon_emax = 30.0\n",
    "\n",
    "# Maximum binding energy allowed\n",
    "bind_emax = 500.0\n",
    "\n",
    "# Minimum and maximum distance between the two monomers\n",
    "min_d_2b = 1.0\n",
    "max_d_2b = 9.0\n",
    "\n",
    "# Minimum fraction of the VdW distance that is allowed between any atoms that belong to different monomers\n",
    "min_inter_d = 0.5\n",
    "\n",
    "# Seeds to be used in the configuration generation to ensure different\n",
    "# configurations for training and test\n",
    "seed_training = 23410\n",
    "seed_test = 93109\n",
    "\n",
    "# IDs of the monomers (should be consistent with the 1B id for each)\n",
    "mon_ids = [\"co2\",\"co2\"]\n",
    "\n",
    "# Number of MB-nrg fits to perform\n",
    "num_mb_fits = 5"
   ]
  },
  {
   "cell_type": "markdown",
   "metadata": {},
   "source": [
    "### 3.2. Generate polynomials"
   ]
  },
  {
   "cell_type": "markdown",
   "metadata": {},
   "source": [
    "#### 3.2.1. Generate polynomial input file"
   ]
  },
  {
   "cell_type": "code",
   "execution_count": null,
   "metadata": {},
   "outputs": [],
   "source": [
    "help(mbfit.generate_poly_input)"
   ]
  },
  {
   "cell_type": "code",
   "execution_count": null,
   "metadata": {
    "scrolled": true
   },
   "outputs": [],
   "source": [
    "mbfit.generate_poly_input(dim_settings, molecule_in, poly_in)"
   ]
  },
  {
   "cell_type": "markdown",
   "metadata": {},
   "source": [
    "#### 3.2.2. Generate polynomial files"
   ]
  },
  {
   "cell_type": "code",
   "execution_count": null,
   "metadata": {},
   "outputs": [],
   "source": [
    "help(mbfit.generate_polynomials)"
   ]
  },
  {
   "cell_type": "code",
   "execution_count": null,
   "metadata": {},
   "outputs": [],
   "source": [
    "mbfit.generate_polynomials(dim_settings, poly_in, polynomial_order, poly_directory, generate_direct_gradients=True)"
   ]
  },
  {
   "cell_type": "markdown",
   "metadata": {},
   "source": [
    "#### 3.2.3. Optimize the polynomial evaluation"
   ]
  },
  {
   "cell_type": "code",
   "execution_count": null,
   "metadata": {},
   "outputs": [],
   "source": [
    "help(mbfit.execute_maple)"
   ]
  },
  {
   "cell_type": "code",
   "execution_count": null,
   "metadata": {},
   "outputs": [],
   "source": [
    "mbfit.execute_maple(dim_settings, poly_directory)"
   ]
  },
  {
   "cell_type": "markdown",
   "metadata": {},
   "source": [
    "### 3.3. Geometry optimization and normal mode calculation"
   ]
  },
  {
   "cell_type": "markdown",
   "metadata": {},
   "source": [
    "#### 3.3.1. Monomers"
   ]
  },
  {
   "cell_type": "code",
   "execution_count": null,
   "metadata": {},
   "outputs": [],
   "source": [
    "help(mbfit.optimize_geometry)"
   ]
  },
  {
   "cell_type": "code",
   "execution_count": null,
   "metadata": {},
   "outputs": [],
   "source": [
    "# Optimize monomer\n",
    "mbfit.optimize_geometry(mon_settings, unopt_mon, opt_mon, method, basis)"
   ]
  },
  {
   "cell_type": "code",
   "execution_count": null,
   "metadata": {},
   "outputs": [],
   "source": [
    "help(mbfit.generate_normal_modes)"
   ]
  },
  {
   "cell_type": "code",
   "execution_count": null,
   "metadata": {},
   "outputs": [],
   "source": [
    "# Get its normal modes\n",
    "mbfit.generate_normal_modes(mon_settings, opt_mon,normal_modes_mon, method, basis)"
   ]
  },
  {
   "cell_type": "markdown",
   "metadata": {},
   "source": [
    "#### 3.3.2. Dimer"
   ]
  },
  {
   "cell_type": "markdown",
   "metadata": {},
   "source": [
    "Now the same for the dimer."
   ]
  },
  {
   "cell_type": "code",
   "execution_count": null,
   "metadata": {},
   "outputs": [],
   "source": [
    "help(mbfit.generate_2b_configurations)"
   ]
  },
  {
   "cell_type": "code",
   "execution_count": null,
   "metadata": {
    "scrolled": true
   },
   "outputs": [],
   "source": [
    "# Generate a dimer\n",
    "mbfit.generate_2b_configurations(dim_settings, opt_mon, opt_mon, \n",
    "                                             1, unopt_dim, \n",
    "                                             min_distance = 2, max_distance = 5, \n",
    "                                             min_inter_distance = 0.8, \n",
    "                                             progression=False, use_grid=False, \n",
    "                                             step_size=0.5, num_attempts=100, \n",
    "                                             logarithmic=True, distribution=None, \n",
    "                                             mol1_atom_index=None, mol2_atom_index=None, \n",
    "                                             seed=seed_training)"
   ]
  },
  {
   "cell_type": "code",
   "execution_count": null,
   "metadata": {
    "scrolled": true
   },
   "outputs": [],
   "source": [
    "# Optimize the dimer\n",
    "mbfit.optimize_geometry(dim_settings, unopt_dim, opt_dim, method, basis)"
   ]
  },
  {
   "cell_type": "code",
   "execution_count": null,
   "metadata": {},
   "outputs": [],
   "source": [
    "# Get its normal modes\n",
    "mbfit.generate_normal_modes(dim_settings, opt_dim,normal_modes_dim, method, basis)"
   ]
  },
  {
   "cell_type": "markdown",
   "metadata": {},
   "source": [
    "### 3.5. Obtain config file"
   ]
  },
  {
   "cell_type": "code",
   "execution_count": null,
   "metadata": {},
   "outputs": [],
   "source": [
    "# C6, A and b parameters are obtained from example 2\n",
    "example2_c6 = [319.9415, 221.5987, 173.3298]\n",
    "example2_d6 = [3.08949, 3.71685, 4.09252]\n",
    "example2_a = [15312.3, 20732.5, 78777.2]"
   ]
  },
  {
   "cell_type": "code",
   "execution_count": null,
   "metadata": {},
   "outputs": [],
   "source": [
    "help(mbfit.get_system_properties)"
   ]
  },
  {
   "cell_type": "code",
   "execution_count": null,
   "metadata": {},
   "outputs": [],
   "source": [
    "chg, pol, c6 = mbfit.get_system_properties(dim_settings, config, geo_paths = [opt_mon,opt_mon])"
   ]
  },
  {
   "cell_type": "code",
   "execution_count": null,
   "metadata": {},
   "outputs": [],
   "source": [
    "help(mbfit.write_config_file)"
   ]
  },
  {
   "cell_type": "code",
   "execution_count": null,
   "metadata": {},
   "outputs": [],
   "source": [
    "mbfit.write_config_file(dim_settings, config, chg, pol, \n",
    "                                    [opt_mon, opt_mon], C6 = example2_c6, \n",
    "                                    d6=example2_d6, A=example2_a)"
   ]
  },
  {
   "cell_type": "markdown",
   "metadata": {},
   "source": [
    "### 3.7. MB-nrg Training and Test Set generation"
   ]
  },
  {
   "cell_type": "markdown",
   "metadata": {},
   "source": [
    "#### 3.7.1. Rigid Training Set"
   ]
  },
  {
   "cell_type": "markdown",
   "metadata": {},
   "source": [
    "##### Generate configurations"
   ]
  },
  {
   "cell_type": "code",
   "execution_count": null,
   "metadata": {},
   "outputs": [],
   "source": [
    "# Training Set\n",
    "mbfit.generate_2b_configurations(dim_settings, opt_mon, opt_mon, \n",
    "                                             num_rigid_training_configs, rigid_training_configs, \n",
    "                                             min_distance = min_d_2b, max_distance = max_d_2b, \n",
    "                                             min_inter_distance = min_inter_d, \n",
    "                                             progression=True, use_grid=False, \n",
    "                                             step_size=0.5, num_attempts=100, \n",
    "                                             logarithmic=True, distribution=None, \n",
    "                                             mol1_atom_index=None, mol2_atom_index=None, \n",
    "                                             seed=seed_training)"
   ]
  },
  {
   "cell_type": "code",
   "execution_count": null,
   "metadata": {},
   "outputs": [],
   "source": [
    "# Test Set\n",
    "mbfit.generate_2b_configurations(dim_settings, opt_mon, opt_mon, \n",
    "                                             num_rigid_test_configs, rigid_test_configs, \n",
    "                                             min_distance = min_d_2b, max_distance = max_d_2b, \n",
    "                                             min_inter_distance = min_inter_d, \n",
    "                                             progression=True, use_grid=False, \n",
    "                                             step_size=0.5, num_attempts=100, \n",
    "                                             logarithmic=True, distribution=None, \n",
    "                                             mol1_atom_index=None, mol2_atom_index=None, \n",
    "                                             seed=seed_training)"
   ]
  },
  {
   "cell_type": "markdown",
   "metadata": {},
   "source": [
    "##### Add configurations to the database"
   ]
  },
  {
   "cell_type": "code",
   "execution_count": null,
   "metadata": {},
   "outputs": [],
   "source": [
    "help(mbfit.init_database)"
   ]
  },
  {
   "cell_type": "code",
   "execution_count": null,
   "metadata": {},
   "outputs": [],
   "source": [
    "# Training set\n",
    "mbfit.init_database(dim_settings, database_config, rigid_training_configs, \n",
    "                                method, basis, cp, \"train_rig_ex3\", optimized = False)"
   ]
  },
  {
   "cell_type": "code",
   "execution_count": null,
   "metadata": {},
   "outputs": [],
   "source": [
    "# Test Set\n",
    "mbfit.init_database(dim_settings, database_config, rigid_test_configs, \n",
    "                                method, basis, cp, \"test_rig_ex3\", optimized = False)"
   ]
  },
  {
   "cell_type": "code",
   "execution_count": null,
   "metadata": {},
   "outputs": [],
   "source": [
    "# Add monomer optimized geommetry to database (needed for binding energy)\n",
    "mbfit.init_database(mon_settings, database_config, opt_mon, method, basis, cp, \"train_rig_ex3\", optimized = True)\n",
    "mbfit.init_database(mon_settings, database_config, opt_mon, method, basis, cp, \"test_rig_ex3\", optimized = True)"
   ]
  },
  {
   "cell_type": "markdown",
   "metadata": {},
   "source": [
    "#### 3.7.2. Flexible Configurations"
   ]
  },
  {
   "cell_type": "markdown",
   "metadata": {},
   "source": [
    "##### Generate distorted monomer configurations"
   ]
  },
  {
   "cell_type": "code",
   "execution_count": null,
   "metadata": {},
   "outputs": [],
   "source": [
    "help(mbfit.generate_normal_mode_configurations)"
   ]
  },
  {
   "cell_type": "code",
   "execution_count": null,
   "metadata": {},
   "outputs": [],
   "source": [
    "# Generate the normal mode configurations for the monomers:\n",
    "mbfit.generate_normal_mode_configurations(mon_settings, opt_mon, normal_modes_mon,\n",
    "                                          mon_distorted, number_of_configs=num_mon_distorted,\n",
    "                                          seed=seed_training + 1, classical=True)"
   ]
  },
  {
   "cell_type": "markdown",
   "metadata": {},
   "source": [
    "##### Add them to the database along with the optimized geometries"
   ]
  },
  {
   "cell_type": "code",
   "execution_count": null,
   "metadata": {},
   "outputs": [],
   "source": [
    "# Add configurations to database\n",
    "mbfit.init_database(mon_settings, database_config, \n",
    "                                mon_distorted, method, basis, cp, \n",
    "                                \"mondist_ex3\", optimized = False)"
   ]
  },
  {
   "cell_type": "code",
   "execution_count": null,
   "metadata": {},
   "outputs": [],
   "source": [
    "# Now add optimized geometries\n",
    "mbfit.init_database(mon_settings, database_config, opt_mon, \n",
    "                                method, basis, cp, \"mondist_ex3\", optimized = True)\n"
   ]
  },
  {
   "cell_type": "markdown",
   "metadata": {},
   "source": [
    "##### Calculate their energy"
   ]
  },
  {
   "cell_type": "code",
   "execution_count": null,
   "metadata": {},
   "outputs": [],
   "source": [
    "mbfit.fill_database(mon_settings, database_config, client_name, \"mondist_ex3\", \n",
    "                                calculation_count = None)"
   ]
  },
  {
   "cell_type": "markdown",
   "metadata": {},
   "source": [
    "##### Retrieve the configurations"
   ]
  },
  {
   "cell_type": "code",
   "execution_count": null,
   "metadata": {},
   "outputs": [],
   "source": [
    "help(mbfit.generate_training_set)"
   ]
  },
  {
   "cell_type": "code",
   "execution_count": null,
   "metadata": {},
   "outputs": [],
   "source": [
    "mbfit.generate_training_set(mon_settings, database_config, \n",
    "                                        mon_screened, method, basis, cp, \n",
    "                                        \"mondist_ex3\", \n",
    "                                        e_bind_max=bind_emax,\n",
    "                                        e_mon_max=mon_emax)"
   ]
  },
  {
   "cell_type": "markdown",
   "metadata": {},
   "source": [
    "##### Generate the flexible training and test set configurations"
   ]
  },
  {
   "cell_type": "code",
   "execution_count": null,
   "metadata": {},
   "outputs": [],
   "source": [
    "# Training set\n",
    "mbfit.generate_2b_configurations(dim_settings, mon_screened, mon_screened, \n",
    "                                             num_flex_training_configs, flex_training_configs, \n",
    "                                             min_distance = min_d_2b, max_distance = max_d_2b, \n",
    "                                             min_inter_distance = min_inter_d, \n",
    "                                             progression=True, use_grid=False, \n",
    "                                             step_size=0.5, num_attempts=100, \n",
    "                                             logarithmic=True, distribution=None, \n",
    "                                             mol1_atom_index=None, mol2_atom_index=None, \n",
    "                                             seed=seed_training + 10)"
   ]
  },
  {
   "cell_type": "code",
   "execution_count": null,
   "metadata": {},
   "outputs": [],
   "source": [
    "# Test set\n",
    "mbfit.generate_2b_configurations(dim_settings, mon_screened, mon_screened, \n",
    "                                             num_flex_test_configs, flex_test_configs, \n",
    "                                             min_distance = min_d_2b, max_distance = max_d_2b, \n",
    "                                             min_inter_distance = min_inter_d, \n",
    "                                             progression=True, use_grid=False, \n",
    "                                             step_size=0.5, num_attempts=100, \n",
    "                                             logarithmic=True, distribution=None, \n",
    "                                             mol1_atom_index=None, mol2_atom_index=None, \n",
    "                                             seed=seed_test + 10)"
   ]
  },
  {
   "cell_type": "markdown",
   "metadata": {},
   "source": [
    "##### Add them to the database"
   ]
  },
  {
   "cell_type": "code",
   "execution_count": null,
   "metadata": {},
   "outputs": [],
   "source": [
    "# Training set\n",
    "mbfit.init_database(dim_settings, database_config, flex_training_configs, \n",
    "                                method, basis, cp, \"train_flex_ex3\", optimized = False)"
   ]
  },
  {
   "cell_type": "code",
   "execution_count": null,
   "metadata": {},
   "outputs": [],
   "source": [
    "# Test Set\n",
    "mbfit.init_database(dim_settings, database_config, flex_test_configs, \n",
    "                                method, basis, cp, \"test_flex_ex3\", optimized = False)"
   ]
  },
  {
   "cell_type": "code",
   "execution_count": null,
   "metadata": {},
   "outputs": [],
   "source": [
    "# Add monomer optimized geommetry to database (needed for binding energy)\n",
    "mbfit.init_database(mon_settings, database_config, opt_mon, method, basis, cp, \"train_flex_ex3\", optimized = True)\n",
    "mbfit.init_database(mon_settings, database_config, opt_mon, method, basis, cp, \"test_flex_ex3\", optimized = True)"
   ]
  },
  {
   "cell_type": "markdown",
   "metadata": {},
   "source": [
    "#### 3.7.3. Normal mode training set"
   ]
  },
  {
   "cell_type": "markdown",
   "metadata": {},
   "source": [
    "##### Generate the configurations"
   ]
  },
  {
   "cell_type": "markdown",
   "metadata": {},
   "source": [
    "In this case we are going to generate normal mode configurations for the dimer, but we will use a low temperature to ensure that we only sample the area around the minimum, and that we don't get too distorted configurations."
   ]
  },
  {
   "cell_type": "code",
   "execution_count": null,
   "metadata": {},
   "outputs": [],
   "source": [
    "# Training Set\n",
    "mbfit.generate_normal_mode_configurations(dim_settings, opt_dim, normal_modes_dim, \n",
    "                                                      normal_mode_training_configs, \n",
    "                                                      num_nm_training_configs, \n",
    "                                                      seed_training + 20, temperature = 100)"
   ]
  },
  {
   "cell_type": "code",
   "execution_count": null,
   "metadata": {},
   "outputs": [],
   "source": [
    "# Test Set\n",
    "mbfit.generate_normal_mode_configurations(dim_settings, opt_dim, normal_modes_dim, \n",
    "                                                      normal_mode_test_configs, \n",
    "                                                      num_nm_test_configs, \n",
    "                                                      seed_test + 20, temperature = 100)"
   ]
  },
  {
   "cell_type": "markdown",
   "metadata": {},
   "source": [
    "##### Add them to the database"
   ]
  },
  {
   "cell_type": "code",
   "execution_count": null,
   "metadata": {},
   "outputs": [],
   "source": [
    "# Training Set\n",
    "mbfit.init_database(dim_settings, database_config, \n",
    "                                normal_mode_training_configs, method, basis, cp, \n",
    "                                \"train_nm_ex3\", optimized = False)"
   ]
  },
  {
   "cell_type": "code",
   "execution_count": null,
   "metadata": {},
   "outputs": [],
   "source": [
    "# Test Set\n",
    "mbfit.init_database(dim_settings, database_config, \n",
    "                                normal_mode_test_configs, method, basis, cp, \n",
    "                                \"test_nm_ex3\", optimized = False)"
   ]
  },
  {
   "cell_type": "code",
   "execution_count": null,
   "metadata": {},
   "outputs": [],
   "source": [
    "# Add monomer optimized geommetry to database (needed for binding energy)\n",
    "mbfit.init_database(mon_settings, database_config, opt_mon, method, basis, cp, \"train_nm_ex3\", optimized = True)\n",
    "mbfit.init_database(mon_settings, database_config, opt_mon, method, basis, cp, \"test_nm_ex3\", optimized = True)"
   ]
  },
  {
   "cell_type": "markdown",
   "metadata": {},
   "source": [
    "#### 3.7.4. Fill the database"
   ]
  },
  {
   "cell_type": "code",
   "execution_count": null,
   "metadata": {},
   "outputs": [],
   "source": [
    "mbfit.fill_database(dim_settings, database_config, client_name, \n",
    "                                \"train_rig_ex3\", \n",
    "                                \"test_rig_ex3\",\n",
    "                                \"train_flex_ex3\", \n",
    "                                \"test_flex_ex3\",\n",
    "                                \"train_nm_ex3\", \n",
    "                                \"test_nm_ex3\",\n",
    "                                calculation_count = None)"
   ]
  },
  {
   "cell_type": "markdown",
   "metadata": {},
   "source": [
    "#### 3.7.5. Training set and Test set generation"
   ]
  },
  {
   "cell_type": "markdown",
   "metadata": {},
   "source": [
    "Generates the training set file in the format that will be needed in the fitting codes. If your database contains energies computed with a variety of methods/basis, **only one method and basis can be used in the same training set**. The format of the training set is the same as the configurations generated for the training set in previous steps. The difference is that now, the comment line will have the binding, and n-body energy of that configuration."
   ]
  },
  {
   "cell_type": "code",
   "execution_count": null,
   "metadata": {
    "scrolled": false
   },
   "outputs": [],
   "source": [
    "# Obtain training set\n",
    "mbfit.generate_training_set(dim_settings, database_config, \n",
    "                                        training_set, method, basis, cp, \n",
    "                                        \"train_rig_ex3\", \n",
    "                                        \"train_flex_ex3\", \n",
    "                                        \"train_nm_ex3\", \n",
    "                                        e_bind_max = bind_emax, e_mon_max = mon_emax)"
   ]
  },
  {
   "cell_type": "code",
   "execution_count": null,
   "metadata": {},
   "outputs": [],
   "source": [
    "# Obtain test set\n",
    "mbfit.generate_training_set(dim_settings, database_config, \n",
    "                                        test_set, method, basis, cp,\n",
    "                                        \"test_rig_ex3\", \n",
    "                                        \"test_flex_ex3\",\n",
    "                                        \"test_nm_ex3\", \n",
    "                                        e_bind_max = bind_emax, e_mon_max = mon_emax)"
   ]
  },
  {
   "cell_type": "markdown",
   "metadata": {},
   "source": [
    "### 3.8. MB-nrg fit"
   ]
  },
  {
   "cell_type": "markdown",
   "metadata": {},
   "source": [
    "#### 3.8.1. Obtain and compile the fitting code"
   ]
  },
  {
   "cell_type": "code",
   "execution_count": null,
   "metadata": {},
   "outputs": [],
   "source": [
    "help(mbfit.generate_mbnrg_fitting_code)"
   ]
  },
  {
   "cell_type": "code",
   "execution_count": null,
   "metadata": {},
   "outputs": [],
   "source": [
    "os.chdir(main_dir)\n",
    "mbfit.generate_mbnrg_fitting_code(dim_settings, config, \n",
    "                                              poly_in, poly_directory, \n",
    "                                              polynomial_order, mbnrg_directory, \n",
    "                                              use_direct=False)"
   ]
  },
  {
   "cell_type": "code",
   "execution_count": null,
   "metadata": {},
   "outputs": [],
   "source": [
    "help(mbfit.compile_fit_code)"
   ]
  },
  {
   "cell_type": "code",
   "execution_count": null,
   "metadata": {},
   "outputs": [],
   "source": [
    "mbfit.compile_fit_code(dim_settings, mbnrg_directory)"
   ]
  },
  {
   "cell_type": "markdown",
   "metadata": {},
   "source": [
    "#### 3.8.2. Perform the fit"
   ]
  },
  {
   "cell_type": "code",
   "execution_count": null,
   "metadata": {},
   "outputs": [],
   "source": [
    "help(mbfit.prepare_fits)"
   ]
  },
  {
   "cell_type": "code",
   "execution_count": null,
   "metadata": {},
   "outputs": [],
   "source": [
    "mbfit.prepare_fits(dim_settings, mbnrg_directory, \n",
    "                               training_set, mbnrg_fits_directory, \n",
    "                               DE=20, alpha=0.0005, num_fits=num_mb_fits, \n",
    "                               ttm=False, over_ttm=False)"
   ]
  },
  {
   "cell_type": "code",
   "execution_count": null,
   "metadata": {},
   "outputs": [],
   "source": [
    "help(mbfit.execute_fits)"
   ]
  },
  {
   "cell_type": "code",
   "execution_count": null,
   "metadata": {},
   "outputs": [],
   "source": [
    "mbfit.execute_fits(dim_settings, mbnrg_fits_directory)"
   ]
  },
  {
   "cell_type": "code",
   "execution_count": null,
   "metadata": {},
   "outputs": [],
   "source": [
    "help(mbfit.retrieve_best_fit)"
   ]
  },
  {
   "cell_type": "code",
   "execution_count": null,
   "metadata": {},
   "outputs": [],
   "source": [
    "mbfit.retrieve_best_fit(dim_settings, mbnrg_fits_directory, fitted_nc_path = \"mbnrg.nc\")"
   ]
  },
  {
   "cell_type": "markdown",
   "metadata": {},
   "source": [
    "### 3.9 Visuzalize the fit"
   ]
  },
  {
   "cell_type": "code",
   "execution_count": null,
   "metadata": {},
   "outputs": [],
   "source": [
    "help(mbfit.get_correlation_data)"
   ]
  },
  {
   "cell_type": "code",
   "execution_count": null,
   "metadata": {},
   "outputs": [],
   "source": [
    "energies = mbfit.get_correlation_data(dim_settings, mbnrg_directory, \n",
    "                                                  mbnrg_fits_directory, test_set,\n",
    "                                                  min_energy_plot = -5.0,\n",
    "                                                  max_energy_plot = 50.0,\n",
    "                                                  split_energy = 10.0)"
   ]
  },
  {
   "cell_type": "markdown",
   "metadata": {},
   "source": [
    "### 3.10 Add files to MBX"
   ]
  },
  {
   "cell_type": "code",
   "execution_count": null,
   "metadata": {},
   "outputs": [],
   "source": [
    "help(mbfit.generate_MBX_files)"
   ]
  },
  {
   "cell_type": "code",
   "execution_count": null,
   "metadata": {},
   "outputs": [],
   "source": [
    "mbfit.generate_MBX_files(dim_settings, config, mon_ids, \n",
    "                                     do_ttmnrg=False, mbnrg_fits_path=mbnrg_fits_directory,  \n",
    "                                     MBX_HOME = None, version = \"v1\")"
   ]
  }
 ],
 "metadata": {
  "kernelspec": {
   "display_name": "Python 3",
   "language": "python",
   "name": "python3"
  },
  "language_info": {
   "codemirror_mode": {
    "name": "ipython",
    "version": 3
   },
   "file_extension": ".py",
   "mimetype": "text/x-python",
   "name": "python",
   "nbconvert_exporter": "python",
   "pygments_lexer": "ipython3",
   "version": "3.7.8"
  }
 },
 "nbformat": 4,
 "nbformat_minor": 2
}
